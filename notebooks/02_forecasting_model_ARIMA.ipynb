{
 "cells": [
  {
   "cell_type": "markdown",
   "id": "0ad2487f",
   "metadata": {},
   "source": [
    "# **Import Modules**"
   ]
  },
  {
   "cell_type": "markdown",
   "id": "8dc1494b",
   "metadata": {},
   "source": [
    "## *python*"
   ]
  },
  {
   "cell_type": "code",
   "execution_count": 1,
   "id": "93a3cb4c",
   "metadata": {},
   "outputs": [],
   "source": [
    "# Import python modules\n",
    "import os\n",
    "import sys"
   ]
  },
  {
   "cell_type": "markdown",
   "id": "05f88b9a",
   "metadata": {},
   "source": [
    "## *custom*"
   ]
  },
  {
   "cell_type": "code",
   "execution_count": 2,
   "id": "0518c028",
   "metadata": {},
   "outputs": [
    {
     "name": "stdout",
     "output_type": "stream",
     "text": [
      "Module successfully imported.\n"
     ]
    }
   ],
   "source": [
    "# Import customised modules\n",
    "\n",
    "# Define path\n",
    "sys.path.append(os.path.abspath(os.path.join(\"..\")))\n",
    "\n",
    "# Import relevant modules\n",
    "try:\n",
    "    from scripts._02_forecasting_model_ARIMA import TimeSeriesForecastingARIMA\n",
    "\n",
    "    print(\"Module successfully imported.\")\n",
    "\n",
    "except ImportError:\n",
    "    print(\"Could not import module from `scripts/`.\")"
   ]
  },
  {
   "cell_type": "markdown",
   "id": "62c65b6b",
   "metadata": {},
   "source": [
    "# **Time Series Forecasting and Modelling (ARIMA)**"
   ]
  },
  {
   "cell_type": "code",
   "execution_count": 3,
   "id": "395205b0",
   "metadata": {},
   "outputs": [],
   "source": [
    "# Load class input paths\n",
    "# Specify directory\n",
    "ntbk_dir = os.getcwd()  # Gets the directory of the notebook\n",
    "plot_dir = os.path.join(ntbk_dir, \"..\", \"insights\", \"model\")\n",
    "model_dir = os.path.join(ntbk_dir, \"..\", \"model\")"
   ]
  },
  {
   "cell_type": "markdown",
   "id": "05f01f60",
   "metadata": {},
   "source": [
    "## *TSLA*"
   ]
  },
  {
   "cell_type": "code",
   "execution_count": 4,
   "id": "e444bd1d",
   "metadata": {},
   "outputs": [
    {
     "name": "stdout",
     "output_type": "stream",
     "text": [
      "🧪 Running full forecasting pipeline...\n",
      "\n",
      "Datatypes changed.\n",
      "🔹DataFrame Head:\n"
     ]
    },
    {
     "data": {
      "application/vnd.microsoft.datawrangler.viewer.v0+json": {
       "columns": [
        {
         "name": "Date",
         "rawType": "datetime64[ns]",
         "type": "datetime"
        },
        {
         "name": "Close",
         "rawType": "float64",
         "type": "float"
        },
        {
         "name": "High",
         "rawType": "float64",
         "type": "float"
        },
        {
         "name": "Low",
         "rawType": "float64",
         "type": "float"
        },
        {
         "name": "Open",
         "rawType": "float64",
         "type": "float"
        },
        {
         "name": "Volume",
         "rawType": "int32",
         "type": "integer"
        },
        {
         "name": "Trend",
         "rawType": "float64",
         "type": "float"
        },
        {
         "name": "Volatility",
         "rawType": "float64",
         "type": "float"
        },
        {
         "name": "Daily Return",
         "rawType": "float64",
         "type": "float"
        }
       ],
       "ref": "dc8ed067-7fde-46d6-8403-e75546dad8dc",
       "rows": [
        [
         "2015-07-02 00:00:00",
         "18.667999267578125",
         "18.829999923706055",
         "18.220666885375977",
         "18.68000030517578",
         "107458500",
         null,
         null,
         "0.0403863991545445"
        ],
        [
         "2015-07-06 00:00:00",
         "18.648000717163086",
         "18.779333114624023",
         "18.420000076293945",
         "18.591999053955078",
         "61828500",
         null,
         null,
         "-0.0010712744375221"
        ],
        [
         "2015-07-07 00:00:00",
         "17.858667373657227",
         "18.34666633605957",
         "17.384666442871094",
         "18.333332061767578",
         "91576500",
         null,
         null,
         "-0.0423280412456966"
        ],
        [
         "2015-07-08 00:00:00",
         "16.997333526611328",
         "17.386667251586914",
         "16.95400047302246",
         "17.288000106811523",
         "93316500",
         null,
         null,
         "-0.0482305778490743"
        ],
        [
         "2015-07-09 00:00:00",
         "17.19466781616211",
         "17.530000686645508",
         "17.119333267211914",
         "17.27199935913086",
         "50011500",
         null,
         null,
         "0.0116097203859553"
        ]
       ],
       "shape": {
        "columns": 8,
        "rows": 5
       }
      },
      "text/html": [
       "<div>\n",
       "<style scoped>\n",
       "    .dataframe tbody tr th:only-of-type {\n",
       "        vertical-align: middle;\n",
       "    }\n",
       "\n",
       "    .dataframe tbody tr th {\n",
       "        vertical-align: top;\n",
       "    }\n",
       "\n",
       "    .dataframe thead th {\n",
       "        text-align: right;\n",
       "    }\n",
       "</style>\n",
       "<table border=\"1\" class=\"dataframe\">\n",
       "  <thead>\n",
       "    <tr style=\"text-align: right;\">\n",
       "      <th></th>\n",
       "      <th>Close</th>\n",
       "      <th>High</th>\n",
       "      <th>Low</th>\n",
       "      <th>Open</th>\n",
       "      <th>Volume</th>\n",
       "      <th>Trend</th>\n",
       "      <th>Volatility</th>\n",
       "      <th>Daily Return</th>\n",
       "    </tr>\n",
       "    <tr>\n",
       "      <th>Date</th>\n",
       "      <th></th>\n",
       "      <th></th>\n",
       "      <th></th>\n",
       "      <th></th>\n",
       "      <th></th>\n",
       "      <th></th>\n",
       "      <th></th>\n",
       "      <th></th>\n",
       "    </tr>\n",
       "  </thead>\n",
       "  <tbody>\n",
       "    <tr>\n",
       "      <th>2015-07-02</th>\n",
       "      <td>18.667999</td>\n",
       "      <td>18.830000</td>\n",
       "      <td>18.220667</td>\n",
       "      <td>18.680000</td>\n",
       "      <td>107458500</td>\n",
       "      <td>NaN</td>\n",
       "      <td>NaN</td>\n",
       "      <td>0.040386</td>\n",
       "    </tr>\n",
       "    <tr>\n",
       "      <th>2015-07-06</th>\n",
       "      <td>18.648001</td>\n",
       "      <td>18.779333</td>\n",
       "      <td>18.420000</td>\n",
       "      <td>18.591999</td>\n",
       "      <td>61828500</td>\n",
       "      <td>NaN</td>\n",
       "      <td>NaN</td>\n",
       "      <td>-0.001071</td>\n",
       "    </tr>\n",
       "    <tr>\n",
       "      <th>2015-07-07</th>\n",
       "      <td>17.858667</td>\n",
       "      <td>18.346666</td>\n",
       "      <td>17.384666</td>\n",
       "      <td>18.333332</td>\n",
       "      <td>91576500</td>\n",
       "      <td>NaN</td>\n",
       "      <td>NaN</td>\n",
       "      <td>-0.042328</td>\n",
       "    </tr>\n",
       "    <tr>\n",
       "      <th>2015-07-08</th>\n",
       "      <td>16.997334</td>\n",
       "      <td>17.386667</td>\n",
       "      <td>16.954000</td>\n",
       "      <td>17.288000</td>\n",
       "      <td>93316500</td>\n",
       "      <td>NaN</td>\n",
       "      <td>NaN</td>\n",
       "      <td>-0.048231</td>\n",
       "    </tr>\n",
       "    <tr>\n",
       "      <th>2015-07-09</th>\n",
       "      <td>17.194668</td>\n",
       "      <td>17.530001</td>\n",
       "      <td>17.119333</td>\n",
       "      <td>17.271999</td>\n",
       "      <td>50011500</td>\n",
       "      <td>NaN</td>\n",
       "      <td>NaN</td>\n",
       "      <td>0.011610</td>\n",
       "    </tr>\n",
       "  </tbody>\n",
       "</table>\n",
       "</div>"
      ],
      "text/plain": [
       "                Close       High        Low       Open     Volume  Trend  \\\n",
       "Date                                                                       \n",
       "2015-07-02  18.667999  18.830000  18.220667  18.680000  107458500    NaN   \n",
       "2015-07-06  18.648001  18.779333  18.420000  18.591999   61828500    NaN   \n",
       "2015-07-07  17.858667  18.346666  17.384666  18.333332   91576500    NaN   \n",
       "2015-07-08  16.997334  17.386667  16.954000  17.288000   93316500    NaN   \n",
       "2015-07-09  17.194668  17.530001  17.119333  17.271999   50011500    NaN   \n",
       "\n",
       "            Volatility  Daily Return  \n",
       "Date                                  \n",
       "2015-07-02         NaN      0.040386  \n",
       "2015-07-06         NaN     -0.001071  \n",
       "2015-07-07         NaN     -0.042328  \n",
       "2015-07-08         NaN     -0.048231  \n",
       "2015-07-09         NaN      0.011610  "
      ]
     },
     "metadata": {},
     "output_type": "display_data"
    },
    {
     "name": "stdout",
     "output_type": "stream",
     "text": [
      "\n",
      "🔹 Shape: (2534, 8)\n",
      "\n",
      "🔹 Columns: ['Close', 'High', 'Low', 'Open', 'Volume', 'Trend', 'Volatility', 'Daily Return']\n",
      "\n",
      "🔹 DataFrame Info:\n",
      "<class 'pandas.core.frame.DataFrame'>\n",
      "DatetimeIndex: 2534 entries, 2015-07-02 to 2025-07-30\n",
      "Data columns (total 8 columns):\n",
      " #   Column        Non-Null Count  Dtype  \n",
      "---  ------        --------------  -----  \n",
      " 0   Close         2534 non-null   float64\n",
      " 1   High          2534 non-null   float64\n",
      " 2   Low           2534 non-null   float64\n",
      " 3   Open          2534 non-null   float64\n",
      " 4   Volume        2534 non-null   int32  \n",
      " 5   Trend         2356 non-null   float64\n",
      " 6   Volatility    2356 non-null   float64\n",
      " 7   Daily Return  2534 non-null   float64\n",
      "dtypes: float64(7), int32(1)\n",
      "memory usage: 168.3 KB\n",
      "                               SARIMAX Results                                \n",
      "==============================================================================\n",
      "Dep. Variable:                      y   No. Observations:                 1884\n",
      "Model:               SARIMAX(0, 2, 0)   Log Likelihood                3088.655\n",
      "Date:                Wed, 13 Aug 2025   AIC                          -6175.310\n",
      "Time:                        06:12:00   BIC                          -6169.770\n",
      "Sample:                             0   HQIC                         -6173.269\n",
      "                               - 1884                                         \n",
      "Covariance Type:                  opg                                         \n",
      "==============================================================================\n",
      "                 coef    std err          z      P>|z|      [0.025      0.975]\n",
      "------------------------------------------------------------------------------\n",
      "sigma2         0.0022   3.05e-05     72.060      0.000       0.002       0.002\n",
      "===================================================================================\n",
      "Ljung-Box (L1) (Q):                   0.53   Jarque-Bera (JB):              6399.23\n",
      "Prob(Q):                              0.47   Prob(JB):                         0.00\n",
      "Heteroskedasticity (H):             478.60   Skew:                            -0.00\n",
      "Prob(H) (two-sided):                  0.00   Kurtosis:                        12.03\n",
      "===================================================================================\n",
      "\n",
      "Warnings:\n",
      "[1] Covariance matrix calculated using the outer product of gradients (complex-step).\n",
      "\n",
      "\n",
      "ARIMA rolling forecast model evaluation ...\n",
      "RMSE: 0.07196\n",
      "MAE: 0.05373\n",
      "R-squared: 1.00000\n",
      "\n",
      "💾 TSLA ARIMA model saved to                 ..\\model\\TSLA_arima_model.pkl\n",
      "\n",
      "💾 TSLA ARIMA object saved to                 ..\\model\\TSLA_arima_object.pkl\n",
      "\n",
      "💾 Plot saved to ..\\insights\\model\\TSLA_stock_price_prediction_arima.png\n"
     ]
    },
    {
     "data": {
      "image/png": "[encoded data removed]",
      "text/plain": [
       "<Figure size 1200x400 with 1 Axes>"
      ]
     },
     "metadata": {},
     "output_type": "display_data"
    }
   ],
   "source": [
    "# Tesla (TSLA) Historical stock prices\n",
    "forecastor = TimeSeriesForecastingARIMA(\n",
    "    stock_name=\"TSLA\",\n",
    "    processed_dir=os.path.join(\n",
    "        ntbk_dir, \"..\", \"data/processed/TSLA_stock_price_enriched.csv\"\n",
    "    ),\n",
    "    plot_dir=plot_dir,\n",
    "    model_dir=model_dir,\n",
    ")\n",
    "forecastor.forecastor_model()"
   ]
  },
  {
   "cell_type": "markdown",
   "id": "0dff3692",
   "metadata": {},
   "source": [
    "## *BND*"
   ]
  },
  {
   "cell_type": "code",
   "execution_count": 5,
   "id": "3823c400",
   "metadata": {},
   "outputs": [
    {
     "name": "stdout",
     "output_type": "stream",
     "text": [
      "🧪 Running full forecasting pipeline...\n",
      "\n",
      "Datatypes changed.\n",
      "🔹DataFrame Head:\n"
     ]
    },
    {
     "data": {
      "application/vnd.microsoft.datawrangler.viewer.v0+json": {
       "columns": [
        {
         "name": "Date",
         "rawType": "datetime64[ns]",
         "type": "datetime"
        },
        {
         "name": "Close",
         "rawType": "float64",
         "type": "float"
        },
        {
         "name": "High",
         "rawType": "float64",
         "type": "float"
        },
        {
         "name": "Low",
         "rawType": "float64",
         "type": "float"
        },
        {
         "name": "Open",
         "rawType": "float64",
         "type": "float"
        },
        {
         "name": "Volume",
         "rawType": "int32",
         "type": "integer"
        },
        {
         "name": "Trend",
         "rawType": "float64",
         "type": "float"
        },
        {
         "name": "Volatility",
         "rawType": "float64",
         "type": "float"
        },
        {
         "name": "Daily Return",
         "rawType": "float64",
         "type": "float"
        }
       ],
       "ref": "f93a0816-cacb-441a-9a39-90db1b20a17f",
       "rows": [
        [
         "2015-07-02 00:00:00",
         "60.96710968017578",
         "61.02725123998213",
         "60.93703890027261",
         "60.93703890027261",
         "1060100",
         null,
         null,
         "0.0024727242619524"
        ],
        [
         "2015-07-06 00:00:00",
         "61.177589416503906",
         "61.22269844670178",
         "61.05731205194197",
         "61.22269844670178",
         "2210700",
         null,
         null,
         "0.0034523489375217"
        ],
        [
         "2015-07-07 00:00:00",
         "61.237709045410156",
         "61.47075029892485",
         "61.237709045410156",
         "61.41061450587746",
         "4183200",
         null,
         null,
         "0.0009827067310048"
        ],
        [
         "2015-07-08 00:00:00",
         "61.410621643066406",
         "61.463244052731085",
         "61.31289021410879",
         "61.373031749557704",
         "1967800",
         null,
         null,
         "0.0028236294327737"
        ],
        [
         "2015-07-09 00:00:00",
         "61.20763397216797",
         "61.3279170206185",
         "61.17756321005534",
         "61.31287877185647",
         "1670900",
         null,
         null,
         "-0.0033054163183406"
        ]
       ],
       "shape": {
        "columns": 8,
        "rows": 5
       }
      },
      "text/html": [
       "<div>\n",
       "<style scoped>\n",
       "    .dataframe tbody tr th:only-of-type {\n",
       "        vertical-align: middle;\n",
       "    }\n",
       "\n",
       "    .dataframe tbody tr th {\n",
       "        vertical-align: top;\n",
       "    }\n",
       "\n",
       "    .dataframe thead th {\n",
       "        text-align: right;\n",
       "    }\n",
       "</style>\n",
       "<table border=\"1\" class=\"dataframe\">\n",
       "  <thead>\n",
       "    <tr style=\"text-align: right;\">\n",
       "      <th></th>\n",
       "      <th>Close</th>\n",
       "      <th>High</th>\n",
       "      <th>Low</th>\n",
       "      <th>Open</th>\n",
       "      <th>Volume</th>\n",
       "      <th>Trend</th>\n",
       "      <th>Volatility</th>\n",
       "      <th>Daily Return</th>\n",
       "    </tr>\n",
       "    <tr>\n",
       "      <th>Date</th>\n",
       "      <th></th>\n",
       "      <th></th>\n",
       "      <th></th>\n",
       "      <th></th>\n",
       "      <th></th>\n",
       "      <th></th>\n",
       "      <th></th>\n",
       "      <th></th>\n",
       "    </tr>\n",
       "  </thead>\n",
       "  <tbody>\n",
       "    <tr>\n",
       "      <th>2015-07-02</th>\n",
       "      <td>60.967110</td>\n",
       "      <td>61.027251</td>\n",
       "      <td>60.937039</td>\n",
       "      <td>60.937039</td>\n",
       "      <td>1060100</td>\n",
       "      <td>NaN</td>\n",
       "      <td>NaN</td>\n",
       "      <td>0.002473</td>\n",
       "    </tr>\n",
       "    <tr>\n",
       "      <th>2015-07-06</th>\n",
       "      <td>61.177589</td>\n",
       "      <td>61.222698</td>\n",
       "      <td>61.057312</td>\n",
       "      <td>61.222698</td>\n",
       "      <td>2210700</td>\n",
       "      <td>NaN</td>\n",
       "      <td>NaN</td>\n",
       "      <td>0.003452</td>\n",
       "    </tr>\n",
       "    <tr>\n",
       "      <th>2015-07-07</th>\n",
       "      <td>61.237709</td>\n",
       "      <td>61.470750</td>\n",
       "      <td>61.237709</td>\n",
       "      <td>61.410615</td>\n",
       "      <td>4183200</td>\n",
       "      <td>NaN</td>\n",
       "      <td>NaN</td>\n",
       "      <td>0.000983</td>\n",
       "    </tr>\n",
       "    <tr>\n",
       "      <th>2015-07-08</th>\n",
       "      <td>61.410622</td>\n",
       "      <td>61.463244</td>\n",
       "      <td>61.312890</td>\n",
       "      <td>61.373032</td>\n",
       "      <td>1967800</td>\n",
       "      <td>NaN</td>\n",
       "      <td>NaN</td>\n",
       "      <td>0.002824</td>\n",
       "    </tr>\n",
       "    <tr>\n",
       "      <th>2015-07-09</th>\n",
       "      <td>61.207634</td>\n",
       "      <td>61.327917</td>\n",
       "      <td>61.177563</td>\n",
       "      <td>61.312879</td>\n",
       "      <td>1670900</td>\n",
       "      <td>NaN</td>\n",
       "      <td>NaN</td>\n",
       "      <td>-0.003305</td>\n",
       "    </tr>\n",
       "  </tbody>\n",
       "</table>\n",
       "</div>"
      ],
      "text/plain": [
       "                Close       High        Low       Open   Volume  Trend  \\\n",
       "Date                                                                     \n",
       "2015-07-02  60.967110  61.027251  60.937039  60.937039  1060100    NaN   \n",
       "2015-07-06  61.177589  61.222698  61.057312  61.222698  2210700    NaN   \n",
       "2015-07-07  61.237709  61.470750  61.237709  61.410615  4183200    NaN   \n",
       "2015-07-08  61.410622  61.463244  61.312890  61.373032  1967800    NaN   \n",
       "2015-07-09  61.207634  61.327917  61.177563  61.312879  1670900    NaN   \n",
       "\n",
       "            Volatility  Daily Return  \n",
       "Date                                  \n",
       "2015-07-02         NaN      0.002473  \n",
       "2015-07-06         NaN      0.003452  \n",
       "2015-07-07         NaN      0.000983  \n",
       "2015-07-08         NaN      0.002824  \n",
       "2015-07-09         NaN     -0.003305  "
      ]
     },
     "metadata": {},
     "output_type": "display_data"
    },
    {
     "name": "stdout",
     "output_type": "stream",
     "text": [
      "\n",
      "🔹 Shape: (2534, 8)\n",
      "\n",
      "🔹 Columns: ['Close', 'High', 'Low', 'Open', 'Volume', 'Trend', 'Volatility', 'Daily Return']\n",
      "\n",
      "🔹 DataFrame Info:\n",
      "<class 'pandas.core.frame.DataFrame'>\n",
      "DatetimeIndex: 2534 entries, 2015-07-02 to 2025-07-30\n",
      "Data columns (total 8 columns):\n",
      " #   Column        Non-Null Count  Dtype  \n",
      "---  ------        --------------  -----  \n",
      " 0   Close         2534 non-null   float64\n",
      " 1   High          2534 non-null   float64\n",
      " 2   Low           2534 non-null   float64\n",
      " 3   Open          2534 non-null   float64\n",
      " 4   Volume        2534 non-null   int32  \n",
      " 5   Trend         2356 non-null   float64\n",
      " 6   Volatility    2356 non-null   float64\n",
      " 7   Daily Return  2534 non-null   float64\n",
      "dtypes: float64(7), int32(1)\n",
      "memory usage: 168.3 KB\n",
      "                               SARIMAX Results                                \n",
      "==============================================================================\n",
      "Dep. Variable:                      y   No. Observations:                 1884\n",
      "Model:               SARIMAX(2, 2, 2)   Log Likelihood                9180.391\n",
      "Date:                Wed, 13 Aug 2025   AIC                         -18350.782\n",
      "Time:                        06:12:42   BIC                         -18323.081\n",
      "Sample:                             0   HQIC                        -18340.580\n",
      "                               - 1884                                         \n",
      "Covariance Type:                  opg                                         \n",
      "==============================================================================\n",
      "                 coef    std err          z      P>|z|      [0.025      0.975]\n",
      "------------------------------------------------------------------------------\n",
      "ar.L1          0.2948      0.063      4.675      0.000       0.171       0.418\n",
      "ar.L2         -0.4407      0.091     -4.834      0.000      -0.619      -0.262\n",
      "ma.L1         -0.2850      0.067     -4.250      0.000      -0.416      -0.154\n",
      "ma.L2          0.3092      0.105      2.935      0.003       0.103       0.516\n",
      "sigma2      3.391e-06   2.85e-08    119.051      0.000    3.34e-06    3.45e-06\n",
      "===================================================================================\n",
      "Ljung-Box (L1) (Q):                   0.00   Jarque-Bera (JB):             71722.15\n",
      "Prob(Q):                              0.96   Prob(JB):                         0.00\n",
      "Heteroskedasticity (H):               4.79   Skew:                             0.16\n",
      "Prob(H) (two-sided):                  0.00   Kurtosis:                        33.24\n",
      "===================================================================================\n",
      "\n",
      "Warnings:\n",
      "[1] Covariance matrix calculated using the outer product of gradients (complex-step).\n",
      "\n",
      "\n",
      "ARIMA rolling forecast model evaluation ...\n",
      "RMSE: 0.00207\n",
      "MAE: 0.00165\n",
      "R-squared: 1.00000\n",
      "\n",
      "💾 BND ARIMA model saved to                 ..\\model\\BND_arima_model.pkl\n",
      "\n",
      "💾 BND ARIMA object saved to                 ..\\model\\BND_arima_object.pkl\n",
      "\n",
      "💾 Plot saved to ..\\insights\\model\\BND_stock_price_prediction_arima.png\n"
     ]
    },
    {
     "data": {
      "image/png": "[encoded data removed]",
      "text/plain": [
       "<Figure size 1200x400 with 1 Axes>"
      ]
     },
     "metadata": {},
     "output_type": "display_data"
    }
   ],
   "source": [
    "# Vanguard Total Bond Market ETF (BND)\n",
    "forecastor = TimeSeriesForecastingARIMA(\n",
    "    stock_name=\"BND\",\n",
    "    processed_dir=os.path.join(\n",
    "        ntbk_dir, \"..\", \"data/processed/BND_stock_price_enriched.csv\"\n",
    "    ),\n",
    "    plot_dir=plot_dir,\n",
    "    model_dir=model_dir,\n",
    ")\n",
    "forecastor.forecastor_model()"
   ]
  },
  {
   "cell_type": "markdown",
   "id": "c07fa207",
   "metadata": {},
   "source": [
    "## *SPY*"
   ]
  },
  {
   "cell_type": "code",
   "execution_count": 6,
   "id": "a9818ee1",
   "metadata": {},
   "outputs": [
    {
     "name": "stdout",
     "output_type": "stream",
     "text": [
      "🧪 Running full forecasting pipeline...\n",
      "\n",
      "Datatypes changed.\n",
      "🔹DataFrame Head:\n"
     ]
    },
    {
     "data": {
      "application/vnd.microsoft.datawrangler.viewer.v0+json": {
       "columns": [
        {
         "name": "Date",
         "rawType": "datetime64[ns]",
         "type": "datetime"
        },
        {
         "name": "Close",
         "rawType": "float64",
         "type": "float"
        },
        {
         "name": "High",
         "rawType": "float64",
         "type": "float"
        },
        {
         "name": "Low",
         "rawType": "float64",
         "type": "float"
        },
        {
         "name": "Open",
         "rawType": "float64",
         "type": "float"
        },
        {
         "name": "Volume",
         "rawType": "int32",
         "type": "integer"
        },
        {
         "name": "Trend",
         "rawType": "float64",
         "type": "float"
        },
        {
         "name": "Volatility",
         "rawType": "float64",
         "type": "float"
        },
        {
         "name": "Daily Return",
         "rawType": "float64",
         "type": "float"
        }
       ],
       "ref": "28647ab7-c19a-4a66-833a-d27968acc027",
       "rows": [
        [
         "2015-07-02 00:00:00",
         "174.75694274902344",
         "175.5662034711772",
         "174.3354557372848",
         "175.39761123903432",
         "104373700",
         null,
         null,
         "-0.0009155251607599"
        ],
        [
         "2015-07-06 00:00:00",
         "174.25955200195312",
         "175.0435114934864",
         "173.2564110814029",
         "173.45872943216628",
         "117975400",
         null,
         null,
         "-0.0028461859039536"
        ],
        [
         "2015-07-07 00:00:00",
         "175.35548400878906",
         "175.4819249845422",
         "172.05945203800184",
         "174.46193347942804",
         "173820200",
         null,
         null,
         "0.0062890785282385"
        ],
        [
         "2015-07-08 00:00:00",
         "172.41351318359375",
         "174.2933420598668",
         "172.17748143512742",
         "174.0067339171242",
         "164020100",
         null,
         null,
         "-0.0167771817449853"
        ],
        [
         "2015-07-09 00:00:00",
         "172.72535705566406",
         "174.79065352152926",
         "172.61577918893985",
         "174.5293207925428",
         "144113100",
         null,
         null,
         "0.0018086973944915"
        ]
       ],
       "shape": {
        "columns": 8,
        "rows": 5
       }
      },
      "text/html": [
       "<div>\n",
       "<style scoped>\n",
       "    .dataframe tbody tr th:only-of-type {\n",
       "        vertical-align: middle;\n",
       "    }\n",
       "\n",
       "    .dataframe tbody tr th {\n",
       "        vertical-align: top;\n",
       "    }\n",
       "\n",
       "    .dataframe thead th {\n",
       "        text-align: right;\n",
       "    }\n",
       "</style>\n",
       "<table border=\"1\" class=\"dataframe\">\n",
       "  <thead>\n",
       "    <tr style=\"text-align: right;\">\n",
       "      <th></th>\n",
       "      <th>Close</th>\n",
       "      <th>High</th>\n",
       "      <th>Low</th>\n",
       "      <th>Open</th>\n",
       "      <th>Volume</th>\n",
       "      <th>Trend</th>\n",
       "      <th>Volatility</th>\n",
       "      <th>Daily Return</th>\n",
       "    </tr>\n",
       "    <tr>\n",
       "      <th>Date</th>\n",
       "      <th></th>\n",
       "      <th></th>\n",
       "      <th></th>\n",
       "      <th></th>\n",
       "      <th></th>\n",
       "      <th></th>\n",
       "      <th></th>\n",
       "      <th></th>\n",
       "    </tr>\n",
       "  </thead>\n",
       "  <tbody>\n",
       "    <tr>\n",
       "      <th>2015-07-02</th>\n",
       "      <td>174.756943</td>\n",
       "      <td>175.566203</td>\n",
       "      <td>174.335456</td>\n",
       "      <td>175.397611</td>\n",
       "      <td>104373700</td>\n",
       "      <td>NaN</td>\n",
       "      <td>NaN</td>\n",
       "      <td>-0.000916</td>\n",
       "    </tr>\n",
       "    <tr>\n",
       "      <th>2015-07-06</th>\n",
       "      <td>174.259552</td>\n",
       "      <td>175.043511</td>\n",
       "      <td>173.256411</td>\n",
       "      <td>173.458729</td>\n",
       "      <td>117975400</td>\n",
       "      <td>NaN</td>\n",
       "      <td>NaN</td>\n",
       "      <td>-0.002846</td>\n",
       "    </tr>\n",
       "    <tr>\n",
       "      <th>2015-07-07</th>\n",
       "      <td>175.355484</td>\n",
       "      <td>175.481925</td>\n",
       "      <td>172.059452</td>\n",
       "      <td>174.461933</td>\n",
       "      <td>173820200</td>\n",
       "      <td>NaN</td>\n",
       "      <td>NaN</td>\n",
       "      <td>0.006289</td>\n",
       "    </tr>\n",
       "    <tr>\n",
       "      <th>2015-07-08</th>\n",
       "      <td>172.413513</td>\n",
       "      <td>174.293342</td>\n",
       "      <td>172.177481</td>\n",
       "      <td>174.006734</td>\n",
       "      <td>164020100</td>\n",
       "      <td>NaN</td>\n",
       "      <td>NaN</td>\n",
       "      <td>-0.016777</td>\n",
       "    </tr>\n",
       "    <tr>\n",
       "      <th>2015-07-09</th>\n",
       "      <td>172.725357</td>\n",
       "      <td>174.790654</td>\n",
       "      <td>172.615779</td>\n",
       "      <td>174.529321</td>\n",
       "      <td>144113100</td>\n",
       "      <td>NaN</td>\n",
       "      <td>NaN</td>\n",
       "      <td>0.001809</td>\n",
       "    </tr>\n",
       "  </tbody>\n",
       "</table>\n",
       "</div>"
      ],
      "text/plain": [
       "                 Close        High         Low        Open     Volume  Trend  \\\n",
       "Date                                                                           \n",
       "2015-07-02  174.756943  175.566203  174.335456  175.397611  104373700    NaN   \n",
       "2015-07-06  174.259552  175.043511  173.256411  173.458729  117975400    NaN   \n",
       "2015-07-07  175.355484  175.481925  172.059452  174.461933  173820200    NaN   \n",
       "2015-07-08  172.413513  174.293342  172.177481  174.006734  164020100    NaN   \n",
       "2015-07-09  172.725357  174.790654  172.615779  174.529321  144113100    NaN   \n",
       "\n",
       "            Volatility  Daily Return  \n",
       "Date                                  \n",
       "2015-07-02         NaN     -0.000916  \n",
       "2015-07-06         NaN     -0.002846  \n",
       "2015-07-07         NaN      0.006289  \n",
       "2015-07-08         NaN     -0.016777  \n",
       "2015-07-09         NaN      0.001809  "
      ]
     },
     "metadata": {},
     "output_type": "display_data"
    },
    {
     "name": "stdout",
     "output_type": "stream",
     "text": [
      "\n",
      "🔹 Shape: (2534, 8)\n",
      "\n",
      "🔹 Columns: ['Close', 'High', 'Low', 'Open', 'Volume', 'Trend', 'Volatility', 'Daily Return']\n",
      "\n",
      "🔹 DataFrame Info:\n",
      "<class 'pandas.core.frame.DataFrame'>\n",
      "DatetimeIndex: 2534 entries, 2015-07-02 to 2025-07-30\n",
      "Data columns (total 8 columns):\n",
      " #   Column        Non-Null Count  Dtype  \n",
      "---  ------        --------------  -----  \n",
      " 0   Close         2534 non-null   float64\n",
      " 1   High          2534 non-null   float64\n",
      " 2   Low           2534 non-null   float64\n",
      " 3   Open          2534 non-null   float64\n",
      " 4   Volume        2534 non-null   int32  \n",
      " 5   Trend         2356 non-null   float64\n",
      " 6   Volatility    2356 non-null   float64\n",
      " 7   Daily Return  2534 non-null   float64\n",
      "dtypes: float64(7), int32(1)\n",
      "memory usage: 168.3 KB\n",
      "                               SARIMAX Results                                \n",
      "==============================================================================\n",
      "Dep. Variable:                      y   No. Observations:                 1884\n",
      "Model:               SARIMAX(0, 2, 2)   Log Likelihood                4085.793\n",
      "Date:                Wed, 13 Aug 2025   AIC                          -8165.586\n",
      "Time:                        06:17:37   BIC                          -8148.966\n",
      "Sample:                             0   HQIC                         -8159.465\n",
      "                               - 1884                                         \n",
      "Covariance Type:                  opg                                         \n",
      "==============================================================================\n",
      "                 coef    std err          z      P>|z|      [0.025      0.975]\n",
      "------------------------------------------------------------------------------\n",
      "ma.L1         -0.0771      0.015     -5.277      0.000      -0.106      -0.048\n",
      "ma.L2          0.0708      0.014      5.154      0.000       0.044       0.098\n",
      "sigma2         0.0008   1.49e-05     51.062      0.000       0.001       0.001\n",
      "===================================================================================\n",
      "Ljung-Box (L1) (Q):                   0.00   Jarque-Bera (JB):              1023.55\n",
      "Prob(Q):                              0.98   Prob(JB):                         0.00\n",
      "Heteroskedasticity (H):              10.15   Skew:                             0.00\n",
      "Prob(H) (two-sided):                  0.00   Kurtosis:                         6.61\n",
      "===================================================================================\n",
      "\n",
      "Warnings:\n",
      "[1] Covariance matrix calculated using the outer product of gradients (complex-step).\n",
      "\n",
      "\n",
      "ARIMA rolling forecast model evaluation ...\n",
      "RMSE: 0.03869\n",
      "MAE: 0.02782\n",
      "R-squared: 1.00000\n",
      "\n",
      "💾 SPY ARIMA model saved to                 ..\\model\\SPY_arima_model.pkl\n",
      "\n",
      "💾 SPY ARIMA object saved to                 ..\\model\\SPY_arima_object.pkl\n",
      "\n",
      "💾 Plot saved to ..\\insights\\model\\SPY_stock_price_prediction_arima.png\n"
     ]
    },
    {
     "data": {
      "image/png": "[encoded data removed]",
      "text/plain": [
       "<Figure size 1200x400 with 1 Axes>"
      ]
     },
     "metadata": {},
     "output_type": "display_data"
    }
   ],
   "source": [
    "# S&P 500 ETF (SPY)\n",
    "forecastor = TimeSeriesForecastingARIMA(\n",
    "    stock_name=\"SPY\",\n",
    "    processed_dir=os.path.join(\n",
    "        ntbk_dir, \"..\", \"data/processed/SPY_stock_price_enriched.csv\"\n",
    "    ),\n",
    "    plot_dir=plot_dir,\n",
    "    model_dir=model_dir,\n",
    ")\n",
    "forecastor.forecastor_model()"
   ]
  }
 ],
 "metadata": {
  "kernelspec": {
   "display_name": ".tslvenv",
   "language": "python",
   "name": "python3"
  },
  "language_info": {
   "codemirror_mode": {
    "name": "ipython",
    "version": 3
   },
   "file_extension": ".py",
   "mimetype": "text/x-python",
   "name": "python",
   "nbconvert_exporter": "python",
   "pygments_lexer": "ipython3",
   "version": "3.11.9"
  }
 },
 "nbformat": 4,
 "nbformat_minor": 5
}
