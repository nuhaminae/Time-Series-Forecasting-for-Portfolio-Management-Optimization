{
 "cells": [
  {
   "cell_type": "markdown",
   "id": "69e0686f",
   "metadata": {},
   "source": [
    "# **Import Modules**"
   ]
  },
  {
   "cell_type": "markdown",
   "id": "58bf7d38",
   "metadata": {},
   "source": [
    "## *python*"
   ]
  },
  {
   "cell_type": "code",
   "execution_count": null,
   "id": "57a7d732",
   "metadata": {},
   "outputs": [],
   "source": [
    "# Import python modules\n",
    "import os\n",
    "import sys"
   ]
  },
  {
   "cell_type": "markdown",
   "id": "db8b1238",
   "metadata": {},
   "source": [
    "## *custom*"
   ]
  },
  {
   "cell_type": "code",
   "execution_count": 2,
   "id": "64f1c7f1",
   "metadata": {},
   "outputs": [
    {
     "name": "stdout",
     "output_type": "stream",
     "text": [
      "Module successfully imported.\n"
     ]
    }
   ],
   "source": [
    "# Import customised modules\n",
    "\n",
    "# Define path\n",
    "sys.path.append(os.path.abspath(os.path.join(\"..\")))\n",
    "\n",
    "# Import relevant modules\n",
    "try:\n",
    "    from scripts._03_forecasting_model_LSTM import TimeSeriesForecastingLSTM\n",
    "\n",
    "    print(\"Module successfully imported.\")\n",
    "\n",
    "except ImportError:\n",
    "    print(\"Could not import module from `scripts/`.\")"
   ]
  },
  {
   "cell_type": "markdown",
   "id": "7b9bd9be",
   "metadata": {},
   "source": [
    "# **Time Series Forecasting and Modelling (LSTM)**"
   ]
  },
  {
   "cell_type": "code",
   "execution_count": 3,
   "id": "bfd7162d",
   "metadata": {},
   "outputs": [],
   "source": [
    "# Load class input paths\n",
    "# Specify directory\n",
    "ntbk_dir = os.getcwd()  # Gets the directory of the notebook\n",
    "plot_dir = os.path.join(ntbk_dir, \"..\", \"insights\", \"model\")\n",
    "model_dir = os.path.join(ntbk_dir, \"..\", \"model\")"
   ]
  },
  {
   "cell_type": "markdown",
   "id": "f5710685",
   "metadata": {},
   "source": [
    "## *TSLA*"
   ]
  },
  {
   "cell_type": "code",
   "execution_count": 4,
   "id": "cb0da52d",
   "metadata": {},
   "outputs": [
    {
     "name": "stdout",
     "output_type": "stream",
     "text": [
      "🧪 Running full forecasting pipeline...\n",
      "\n",
      "Datatypes changed.\n",
      "🔹DataFrame Head:\n"
     ]
    },
    {
     "data": {
      "application/vnd.microsoft.datawrangler.viewer.v0+json": {
       "columns": [
        {
         "name": "index",
         "rawType": "int64",
         "type": "integer"
        },
        {
         "name": "Date",
         "rawType": "datetime64[ns]",
         "type": "datetime"
        },
        {
         "name": "Close",
         "rawType": "float64",
         "type": "float"
        },
        {
         "name": "High",
         "rawType": "float64",
         "type": "float"
        },
        {
         "name": "Low",
         "rawType": "float64",
         "type": "float"
        },
        {
         "name": "Open",
         "rawType": "float64",
         "type": "float"
        },
        {
         "name": "Volume",
         "rawType": "int32",
         "type": "integer"
        },
        {
         "name": "Trend",
         "rawType": "float64",
         "type": "float"
        },
        {
         "name": "Volatility",
         "rawType": "float64",
         "type": "float"
        },
        {
         "name": "Daily Return",
         "rawType": "float64",
         "type": "float"
        }
       ],
       "ref": "bff0f1ee-a939-430e-b0bb-7ca122bdecd4",
       "rows": [
        [
         "2",
         "2015-07-02 00:00:00",
         "18.667999267578125",
         "18.829999923706055",
         "18.220666885375977",
         "18.68000030517578",
         "107458500",
         null,
         null,
         "0.0403863991545445"
        ],
        [
         "3",
         "2015-07-06 00:00:00",
         "18.648000717163086",
         "18.779333114624023",
         "18.420000076293945",
         "18.591999053955078",
         "61828500",
         null,
         null,
         "-0.0010712744375221"
        ],
        [
         "4",
         "2015-07-07 00:00:00",
         "17.858667373657227",
         "18.34666633605957",
         "17.384666442871094",
         "18.333332061767578",
         "91576500",
         null,
         null,
         "-0.0423280412456966"
        ],
        [
         "5",
         "2015-07-08 00:00:00",
         "16.997333526611328",
         "17.386667251586914",
         "16.95400047302246",
         "17.288000106811523",
         "93316500",
         null,
         null,
         "-0.0482305778490743"
        ],
        [
         "6",
         "2015-07-09 00:00:00",
         "17.19466781616211",
         "17.530000686645508",
         "17.119333267211914",
         "17.27199935913086",
         "50011500",
         null,
         null,
         "0.0116097203859553"
        ]
       ],
       "shape": {
        "columns": 9,
        "rows": 5
       }
      },
      "text/html": [
       "<div>\n",
       "<style scoped>\n",
       "    .dataframe tbody tr th:only-of-type {\n",
       "        vertical-align: middle;\n",
       "    }\n",
       "\n",
       "    .dataframe tbody tr th {\n",
       "        vertical-align: top;\n",
       "    }\n",
       "\n",
       "    .dataframe thead th {\n",
       "        text-align: right;\n",
       "    }\n",
       "</style>\n",
       "<table border=\"1\" class=\"dataframe\">\n",
       "  <thead>\n",
       "    <tr style=\"text-align: right;\">\n",
       "      <th></th>\n",
       "      <th>Date</th>\n",
       "      <th>Close</th>\n",
       "      <th>High</th>\n",
       "      <th>Low</th>\n",
       "      <th>Open</th>\n",
       "      <th>Volume</th>\n",
       "      <th>Trend</th>\n",
       "      <th>Volatility</th>\n",
       "      <th>Daily Return</th>\n",
       "    </tr>\n",
       "  </thead>\n",
       "  <tbody>\n",
       "    <tr>\n",
       "      <th>2</th>\n",
       "      <td>2015-07-02</td>\n",
       "      <td>18.667999</td>\n",
       "      <td>18.830000</td>\n",
       "      <td>18.220667</td>\n",
       "      <td>18.680000</td>\n",
       "      <td>107458500</td>\n",
       "      <td>NaN</td>\n",
       "      <td>NaN</td>\n",
       "      <td>0.040386</td>\n",
       "    </tr>\n",
       "    <tr>\n",
       "      <th>3</th>\n",
       "      <td>2015-07-06</td>\n",
       "      <td>18.648001</td>\n",
       "      <td>18.779333</td>\n",
       "      <td>18.420000</td>\n",
       "      <td>18.591999</td>\n",
       "      <td>61828500</td>\n",
       "      <td>NaN</td>\n",
       "      <td>NaN</td>\n",
       "      <td>-0.001071</td>\n",
       "    </tr>\n",
       "    <tr>\n",
       "      <th>4</th>\n",
       "      <td>2015-07-07</td>\n",
       "      <td>17.858667</td>\n",
       "      <td>18.346666</td>\n",
       "      <td>17.384666</td>\n",
       "      <td>18.333332</td>\n",
       "      <td>91576500</td>\n",
       "      <td>NaN</td>\n",
       "      <td>NaN</td>\n",
       "      <td>-0.042328</td>\n",
       "    </tr>\n",
       "    <tr>\n",
       "      <th>5</th>\n",
       "      <td>2015-07-08</td>\n",
       "      <td>16.997334</td>\n",
       "      <td>17.386667</td>\n",
       "      <td>16.954000</td>\n",
       "      <td>17.288000</td>\n",
       "      <td>93316500</td>\n",
       "      <td>NaN</td>\n",
       "      <td>NaN</td>\n",
       "      <td>-0.048231</td>\n",
       "    </tr>\n",
       "    <tr>\n",
       "      <th>6</th>\n",
       "      <td>2015-07-09</td>\n",
       "      <td>17.194668</td>\n",
       "      <td>17.530001</td>\n",
       "      <td>17.119333</td>\n",
       "      <td>17.271999</td>\n",
       "      <td>50011500</td>\n",
       "      <td>NaN</td>\n",
       "      <td>NaN</td>\n",
       "      <td>0.011610</td>\n",
       "    </tr>\n",
       "  </tbody>\n",
       "</table>\n",
       "</div>"
      ],
      "text/plain": [
       "        Date      Close       High        Low       Open     Volume  Trend  \\\n",
       "2 2015-07-02  18.667999  18.830000  18.220667  18.680000  107458500    NaN   \n",
       "3 2015-07-06  18.648001  18.779333  18.420000  18.591999   61828500    NaN   \n",
       "4 2015-07-07  17.858667  18.346666  17.384666  18.333332   91576500    NaN   \n",
       "5 2015-07-08  16.997334  17.386667  16.954000  17.288000   93316500    NaN   \n",
       "6 2015-07-09  17.194668  17.530001  17.119333  17.271999   50011500    NaN   \n",
       "\n",
       "   Volatility  Daily Return  \n",
       "2         NaN      0.040386  \n",
       "3         NaN     -0.001071  \n",
       "4         NaN     -0.042328  \n",
       "5         NaN     -0.048231  \n",
       "6         NaN      0.011610  "
      ]
     },
     "metadata": {},
     "output_type": "display_data"
    },
    {
     "name": "stdout",
     "output_type": "stream",
     "text": [
      "\n",
      "🔹 Shape: (2534, 9)\n",
      "\n",
      "🔹 Columns: ['Date', 'Close', 'High', 'Low', 'Open', 'Volume', 'Trend', 'Volatility', 'Daily Return']\n",
      "\n",
      "🔹 DataFrame Info:\n",
      "<class 'pandas.core.frame.DataFrame'>\n",
      "RangeIndex: 2534 entries, 2 to 2535\n",
      "Data columns (total 9 columns):\n",
      " #   Column        Non-Null Count  Dtype         \n",
      "---  ------        --------------  -----         \n",
      " 0   Date          2534 non-null   datetime64[ns]\n",
      " 1   Close         2534 non-null   float64       \n",
      " 2   High          2534 non-null   float64       \n",
      " 3   Low           2534 non-null   float64       \n",
      " 4   Open          2534 non-null   float64       \n",
      " 5   Volume        2534 non-null   int32         \n",
      " 6   Trend         2356 non-null   float64       \n",
      " 7   Volatility    2356 non-null   float64       \n",
      " 8   Daily Return  2534 non-null   float64       \n",
      "dtypes: datetime64[ns](1), float64(7), int32(1)\n",
      "memory usage: 168.4 KB\n",
      "\n",
      "\n",
      "\u001b[1m14/14\u001b[0m \u001b[32m━━━━━━━━━━━━━━━━━━━━\u001b[0m\u001b[37m\u001b[0m \u001b[1m0s\u001b[0m 14ms/step\n",
      "\u001b[1m58/58\u001b[0m \u001b[32m━━━━━━━━━━━━━━━━━━━━\u001b[0m\u001b[37m\u001b[0m \u001b[1m0s\u001b[0m 3ms/step\n",
      "LSTM forecast model evaluation for TSLA stock\n",
      "Test RMSE : 3.72685\n",
      "Test MAE for : 3.32548\n",
      "Test R-squared for : 0.99\n",
      "\n",
      "💾 TSLA LSTM model saved to                 ..\\model\\TSLA_lstm_model.pkl\n",
      "\n",
      "💾 Plot saved to ..\\insights\\model\\TSLA_stock_price_prediction_lstm.png\n"
     ]
    },
    {
     "data": {
      "image/png": "[encoded data removed]",
      "text/plain": [
       "<Figure size 1200x400 with 1 Axes>"
      ]
     },
     "metadata": {},
     "output_type": "display_data"
    }
   ],
   "source": [
    "# Tesla (TSLA) Historical stock prices\n",
    "forecastor = TimeSeriesForecastingLSTM(\n",
    "    stock_name=\"TSLA\",\n",
    "    processed_dir=os.path.join(\n",
    "        ntbk_dir, \"..\", \"data/processed/TSLA_stock_price_enriched.csv\"\n",
    "    ),\n",
    "    plot_dir=plot_dir,\n",
    "    model_dir=model_dir,\n",
    ")\n",
    "forecastor.forecastor_model()"
   ]
  },
  {
   "cell_type": "markdown",
   "id": "761dbdc4",
   "metadata": {},
   "source": [
    "## *BND*"
   ]
  },
  {
   "cell_type": "code",
   "execution_count": 5,
   "id": "a7f9b77f",
   "metadata": {},
   "outputs": [
    {
     "name": "stdout",
     "output_type": "stream",
     "text": [
      "🧪 Running full forecasting pipeline...\n",
      "\n",
      "Datatypes changed.\n",
      "🔹DataFrame Head:\n"
     ]
    },
    {
     "data": {
      "application/vnd.microsoft.datawrangler.viewer.v0+json": {
       "columns": [
        {
         "name": "index",
         "rawType": "int64",
         "type": "integer"
        },
        {
         "name": "Date",
         "rawType": "datetime64[ns]",
         "type": "datetime"
        },
        {
         "name": "Close",
         "rawType": "float64",
         "type": "float"
        },
        {
         "name": "High",
         "rawType": "float64",
         "type": "float"
        },
        {
         "name": "Low",
         "rawType": "float64",
         "type": "float"
        },
        {
         "name": "Open",
         "rawType": "float64",
         "type": "float"
        },
        {
         "name": "Volume",
         "rawType": "int32",
         "type": "integer"
        },
        {
         "name": "Trend",
         "rawType": "float64",
         "type": "float"
        },
        {
         "name": "Volatility",
         "rawType": "float64",
         "type": "float"
        },
        {
         "name": "Daily Return",
         "rawType": "float64",
         "type": "float"
        }
       ],
       "ref": "5330ce83-4777-45a3-900a-b29c38f86332",
       "rows": [
        [
         "2",
         "2015-07-02 00:00:00",
         "60.96710968017578",
         "61.02725123998213",
         "60.93703890027261",
         "60.93703890027261",
         "1060100",
         null,
         null,
         "0.0024727242619524"
        ],
        [
         "3",
         "2015-07-06 00:00:00",
         "61.177589416503906",
         "61.22269844670178",
         "61.05731205194197",
         "61.22269844670178",
         "2210700",
         null,
         null,
         "0.0034523489375217"
        ],
        [
         "4",
         "2015-07-07 00:00:00",
         "61.237709045410156",
         "61.47075029892485",
         "61.237709045410156",
         "61.41061450587746",
         "4183200",
         null,
         null,
         "0.0009827067310048"
        ],
        [
         "5",
         "2015-07-08 00:00:00",
         "61.410621643066406",
         "61.463244052731085",
         "61.31289021410879",
         "61.373031749557704",
         "1967800",
         null,
         null,
         "0.0028236294327737"
        ],
        [
         "6",
         "2015-07-09 00:00:00",
         "61.20763397216797",
         "61.3279170206185",
         "61.17756321005534",
         "61.31287877185647",
         "1670900",
         null,
         null,
         "-0.0033054163183406"
        ]
       ],
       "shape": {
        "columns": 9,
        "rows": 5
       }
      },
      "text/html": [
       "<div>\n",
       "<style scoped>\n",
       "    .dataframe tbody tr th:only-of-type {\n",
       "        vertical-align: middle;\n",
       "    }\n",
       "\n",
       "    .dataframe tbody tr th {\n",
       "        vertical-align: top;\n",
       "    }\n",
       "\n",
       "    .dataframe thead th {\n",
       "        text-align: right;\n",
       "    }\n",
       "</style>\n",
       "<table border=\"1\" class=\"dataframe\">\n",
       "  <thead>\n",
       "    <tr style=\"text-align: right;\">\n",
       "      <th></th>\n",
       "      <th>Date</th>\n",
       "      <th>Close</th>\n",
       "      <th>High</th>\n",
       "      <th>Low</th>\n",
       "      <th>Open</th>\n",
       "      <th>Volume</th>\n",
       "      <th>Trend</th>\n",
       "      <th>Volatility</th>\n",
       "      <th>Daily Return</th>\n",
       "    </tr>\n",
       "  </thead>\n",
       "  <tbody>\n",
       "    <tr>\n",
       "      <th>2</th>\n",
       "      <td>2015-07-02</td>\n",
       "      <td>60.967110</td>\n",
       "      <td>61.027251</td>\n",
       "      <td>60.937039</td>\n",
       "      <td>60.937039</td>\n",
       "      <td>1060100</td>\n",
       "      <td>NaN</td>\n",
       "      <td>NaN</td>\n",
       "      <td>0.002473</td>\n",
       "    </tr>\n",
       "    <tr>\n",
       "      <th>3</th>\n",
       "      <td>2015-07-06</td>\n",
       "      <td>61.177589</td>\n",
       "      <td>61.222698</td>\n",
       "      <td>61.057312</td>\n",
       "      <td>61.222698</td>\n",
       "      <td>2210700</td>\n",
       "      <td>NaN</td>\n",
       "      <td>NaN</td>\n",
       "      <td>0.003452</td>\n",
       "    </tr>\n",
       "    <tr>\n",
       "      <th>4</th>\n",
       "      <td>2015-07-07</td>\n",
       "      <td>61.237709</td>\n",
       "      <td>61.470750</td>\n",
       "      <td>61.237709</td>\n",
       "      <td>61.410615</td>\n",
       "      <td>4183200</td>\n",
       "      <td>NaN</td>\n",
       "      <td>NaN</td>\n",
       "      <td>0.000983</td>\n",
       "    </tr>\n",
       "    <tr>\n",
       "      <th>5</th>\n",
       "      <td>2015-07-08</td>\n",
       "      <td>61.410622</td>\n",
       "      <td>61.463244</td>\n",
       "      <td>61.312890</td>\n",
       "      <td>61.373032</td>\n",
       "      <td>1967800</td>\n",
       "      <td>NaN</td>\n",
       "      <td>NaN</td>\n",
       "      <td>0.002824</td>\n",
       "    </tr>\n",
       "    <tr>\n",
       "      <th>6</th>\n",
       "      <td>2015-07-09</td>\n",
       "      <td>61.207634</td>\n",
       "      <td>61.327917</td>\n",
       "      <td>61.177563</td>\n",
       "      <td>61.312879</td>\n",
       "      <td>1670900</td>\n",
       "      <td>NaN</td>\n",
       "      <td>NaN</td>\n",
       "      <td>-0.003305</td>\n",
       "    </tr>\n",
       "  </tbody>\n",
       "</table>\n",
       "</div>"
      ],
      "text/plain": [
       "        Date      Close       High        Low       Open   Volume  Trend  \\\n",
       "2 2015-07-02  60.967110  61.027251  60.937039  60.937039  1060100    NaN   \n",
       "3 2015-07-06  61.177589  61.222698  61.057312  61.222698  2210700    NaN   \n",
       "4 2015-07-07  61.237709  61.470750  61.237709  61.410615  4183200    NaN   \n",
       "5 2015-07-08  61.410622  61.463244  61.312890  61.373032  1967800    NaN   \n",
       "6 2015-07-09  61.207634  61.327917  61.177563  61.312879  1670900    NaN   \n",
       "\n",
       "   Volatility  Daily Return  \n",
       "2         NaN      0.002473  \n",
       "3         NaN      0.003452  \n",
       "4         NaN      0.000983  \n",
       "5         NaN      0.002824  \n",
       "6         NaN     -0.003305  "
      ]
     },
     "metadata": {},
     "output_type": "display_data"
    },
    {
     "name": "stdout",
     "output_type": "stream",
     "text": [
      "\n",
      "🔹 Shape: (2534, 9)\n",
      "\n",
      "🔹 Columns: ['Date', 'Close', 'High', 'Low', 'Open', 'Volume', 'Trend', 'Volatility', 'Daily Return']\n",
      "\n",
      "🔹 DataFrame Info:\n",
      "<class 'pandas.core.frame.DataFrame'>\n",
      "RangeIndex: 2534 entries, 2 to 2535\n",
      "Data columns (total 9 columns):\n",
      " #   Column        Non-Null Count  Dtype         \n",
      "---  ------        --------------  -----         \n",
      " 0   Date          2534 non-null   datetime64[ns]\n",
      " 1   Close         2534 non-null   float64       \n",
      " 2   High          2534 non-null   float64       \n",
      " 3   Low           2534 non-null   float64       \n",
      " 4   Open          2534 non-null   float64       \n",
      " 5   Volume        2534 non-null   int32         \n",
      " 6   Trend         2356 non-null   float64       \n",
      " 7   Volatility    2356 non-null   float64       \n",
      " 8   Daily Return  2534 non-null   float64       \n",
      "dtypes: datetime64[ns](1), float64(7), int32(1)\n",
      "memory usage: 168.4 KB\n",
      "\n",
      "\n",
      "\u001b[1m14/14\u001b[0m \u001b[32m━━━━━━━━━━━━━━━━━━━━\u001b[0m\u001b[37m\u001b[0m \u001b[1m1s\u001b[0m 18ms/step\n",
      "\u001b[1m58/58\u001b[0m \u001b[32m━━━━━━━━━━━━━━━━━━━━\u001b[0m\u001b[37m\u001b[0m \u001b[1m0s\u001b[0m 3ms/step\n",
      "LSTM forecast model evaluation for BND stock\n",
      "Test RMSE : 0.15771\n",
      "Test MAE for : 0.15302\n",
      "Test R-squared for : 0.99\n",
      "\n",
      "💾 BND LSTM model saved to                 ..\\model\\BND_lstm_model.pkl\n",
      "\n",
      "💾 Plot saved to ..\\insights\\model\\BND_stock_price_prediction_lstm.png\n"
     ]
    },
    {
     "data": {
      "image/png": "[encoded data removed]",
      "text/plain": [
       "<Figure size 1200x400 with 1 Axes>"
      ]
     },
     "metadata": {},
     "output_type": "display_data"
    }
   ],
   "source": [
    "# Vanguard Total Bond Market ETF (BND)\n",
    "forecastor = TimeSeriesForecastingLSTM(\n",
    "    stock_name=\"BND\",\n",
    "    processed_dir=os.path.join(\n",
    "        ntbk_dir, \"..\", \"data/processed/BND_stock_price_enriched.csv\"\n",
    "    ),\n",
    "    plot_dir=plot_dir,\n",
    "    model_dir=model_dir,\n",
    ")\n",
    "forecastor.forecastor_model()"
   ]
  },
  {
   "cell_type": "markdown",
   "id": "69495353",
   "metadata": {},
   "source": [
    "## *SPY*"
   ]
  },
  {
   "cell_type": "code",
   "execution_count": 6,
   "id": "17d3acdd",
   "metadata": {},
   "outputs": [
    {
     "name": "stdout",
     "output_type": "stream",
     "text": [
      "🧪 Running full forecasting pipeline...\n",
      "\n",
      "Datatypes changed.\n",
      "🔹DataFrame Head:\n"
     ]
    },
    {
     "data": {
      "application/vnd.microsoft.datawrangler.viewer.v0+json": {
       "columns": [
        {
         "name": "index",
         "rawType": "int64",
         "type": "integer"
        },
        {
         "name": "Date",
         "rawType": "datetime64[ns]",
         "type": "datetime"
        },
        {
         "name": "Close",
         "rawType": "float64",
         "type": "float"
        },
        {
         "name": "High",
         "rawType": "float64",
         "type": "float"
        },
        {
         "name": "Low",
         "rawType": "float64",
         "type": "float"
        },
        {
         "name": "Open",
         "rawType": "float64",
         "type": "float"
        },
        {
         "name": "Volume",
         "rawType": "int32",
         "type": "integer"
        },
        {
         "name": "Trend",
         "rawType": "float64",
         "type": "float"
        },
        {
         "name": "Volatility",
         "rawType": "float64",
         "type": "float"
        },
        {
         "name": "Daily Return",
         "rawType": "float64",
         "type": "float"
        }
       ],
       "ref": "8d3e14b6-df67-44c1-9cf4-e1aefe09e202",
       "rows": [
        [
         "2",
         "2015-07-02 00:00:00",
         "174.75694274902344",
         "175.5662034711772",
         "174.3354557372848",
         "175.39761123903432",
         "104373700",
         null,
         null,
         "-0.0009155251607599"
        ],
        [
         "3",
         "2015-07-06 00:00:00",
         "174.25955200195312",
         "175.0435114934864",
         "173.2564110814029",
         "173.45872943216628",
         "117975400",
         null,
         null,
         "-0.0028461859039536"
        ],
        [
         "4",
         "2015-07-07 00:00:00",
         "175.35548400878906",
         "175.4819249845422",
         "172.05945203800184",
         "174.46193347942804",
         "173820200",
         null,
         null,
         "0.0062890785282385"
        ],
        [
         "5",
         "2015-07-08 00:00:00",
         "172.41351318359375",
         "174.2933420598668",
         "172.17748143512742",
         "174.0067339171242",
         "164020100",
         null,
         null,
         "-0.0167771817449853"
        ],
        [
         "6",
         "2015-07-09 00:00:00",
         "172.72535705566406",
         "174.79065352152926",
         "172.61577918893985",
         "174.5293207925428",
         "144113100",
         null,
         null,
         "0.0018086973944915"
        ]
       ],
       "shape": {
        "columns": 9,
        "rows": 5
       }
      },
      "text/html": [
       "<div>\n",
       "<style scoped>\n",
       "    .dataframe tbody tr th:only-of-type {\n",
       "        vertical-align: middle;\n",
       "    }\n",
       "\n",
       "    .dataframe tbody tr th {\n",
       "        vertical-align: top;\n",
       "    }\n",
       "\n",
       "    .dataframe thead th {\n",
       "        text-align: right;\n",
       "    }\n",
       "</style>\n",
       "<table border=\"1\" class=\"dataframe\">\n",
       "  <thead>\n",
       "    <tr style=\"text-align: right;\">\n",
       "      <th></th>\n",
       "      <th>Date</th>\n",
       "      <th>Close</th>\n",
       "      <th>High</th>\n",
       "      <th>Low</th>\n",
       "      <th>Open</th>\n",
       "      <th>Volume</th>\n",
       "      <th>Trend</th>\n",
       "      <th>Volatility</th>\n",
       "      <th>Daily Return</th>\n",
       "    </tr>\n",
       "  </thead>\n",
       "  <tbody>\n",
       "    <tr>\n",
       "      <th>2</th>\n",
       "      <td>2015-07-02</td>\n",
       "      <td>174.756943</td>\n",
       "      <td>175.566203</td>\n",
       "      <td>174.335456</td>\n",
       "      <td>175.397611</td>\n",
       "      <td>104373700</td>\n",
       "      <td>NaN</td>\n",
       "      <td>NaN</td>\n",
       "      <td>-0.000916</td>\n",
       "    </tr>\n",
       "    <tr>\n",
       "      <th>3</th>\n",
       "      <td>2015-07-06</td>\n",
       "      <td>174.259552</td>\n",
       "      <td>175.043511</td>\n",
       "      <td>173.256411</td>\n",
       "      <td>173.458729</td>\n",
       "      <td>117975400</td>\n",
       "      <td>NaN</td>\n",
       "      <td>NaN</td>\n",
       "      <td>-0.002846</td>\n",
       "    </tr>\n",
       "    <tr>\n",
       "      <th>4</th>\n",
       "      <td>2015-07-07</td>\n",
       "      <td>175.355484</td>\n",
       "      <td>175.481925</td>\n",
       "      <td>172.059452</td>\n",
       "      <td>174.461933</td>\n",
       "      <td>173820200</td>\n",
       "      <td>NaN</td>\n",
       "      <td>NaN</td>\n",
       "      <td>0.006289</td>\n",
       "    </tr>\n",
       "    <tr>\n",
       "      <th>5</th>\n",
       "      <td>2015-07-08</td>\n",
       "      <td>172.413513</td>\n",
       "      <td>174.293342</td>\n",
       "      <td>172.177481</td>\n",
       "      <td>174.006734</td>\n",
       "      <td>164020100</td>\n",
       "      <td>NaN</td>\n",
       "      <td>NaN</td>\n",
       "      <td>-0.016777</td>\n",
       "    </tr>\n",
       "    <tr>\n",
       "      <th>6</th>\n",
       "      <td>2015-07-09</td>\n",
       "      <td>172.725357</td>\n",
       "      <td>174.790654</td>\n",
       "      <td>172.615779</td>\n",
       "      <td>174.529321</td>\n",
       "      <td>144113100</td>\n",
       "      <td>NaN</td>\n",
       "      <td>NaN</td>\n",
       "      <td>0.001809</td>\n",
       "    </tr>\n",
       "  </tbody>\n",
       "</table>\n",
       "</div>"
      ],
      "text/plain": [
       "        Date       Close        High         Low        Open     Volume  \\\n",
       "2 2015-07-02  174.756943  175.566203  174.335456  175.397611  104373700   \n",
       "3 2015-07-06  174.259552  175.043511  173.256411  173.458729  117975400   \n",
       "4 2015-07-07  175.355484  175.481925  172.059452  174.461933  173820200   \n",
       "5 2015-07-08  172.413513  174.293342  172.177481  174.006734  164020100   \n",
       "6 2015-07-09  172.725357  174.790654  172.615779  174.529321  144113100   \n",
       "\n",
       "   Trend  Volatility  Daily Return  \n",
       "2    NaN         NaN     -0.000916  \n",
       "3    NaN         NaN     -0.002846  \n",
       "4    NaN         NaN      0.006289  \n",
       "5    NaN         NaN     -0.016777  \n",
       "6    NaN         NaN      0.001809  "
      ]
     },
     "metadata": {},
     "output_type": "display_data"
    },
    {
     "name": "stdout",
     "output_type": "stream",
     "text": [
      "\n",
      "🔹 Shape: (2534, 9)\n",
      "\n",
      "🔹 Columns: ['Date', 'Close', 'High', 'Low', 'Open', 'Volume', 'Trend', 'Volatility', 'Daily Return']\n",
      "\n",
      "🔹 DataFrame Info:\n",
      "<class 'pandas.core.frame.DataFrame'>\n",
      "RangeIndex: 2534 entries, 2 to 2535\n",
      "Data columns (total 9 columns):\n",
      " #   Column        Non-Null Count  Dtype         \n",
      "---  ------        --------------  -----         \n",
      " 0   Date          2534 non-null   datetime64[ns]\n",
      " 1   Close         2534 non-null   float64       \n",
      " 2   High          2534 non-null   float64       \n",
      " 3   Low           2534 non-null   float64       \n",
      " 4   Open          2534 non-null   float64       \n",
      " 5   Volume        2534 non-null   int32         \n",
      " 6   Trend         2356 non-null   float64       \n",
      " 7   Volatility    2356 non-null   float64       \n",
      " 8   Daily Return  2534 non-null   float64       \n",
      "dtypes: datetime64[ns](1), float64(7), int32(1)\n",
      "memory usage: 168.4 KB\n",
      "\n",
      "\n",
      "\u001b[1m14/14\u001b[0m \u001b[32m━━━━━━━━━━━━━━━━━━━━\u001b[0m\u001b[37m\u001b[0m \u001b[1m0s\u001b[0m 18ms/step\n",
      "\u001b[1m58/58\u001b[0m \u001b[32m━━━━━━━━━━━━━━━━━━━━\u001b[0m\u001b[37m\u001b[0m \u001b[1m0s\u001b[0m 4ms/step\n",
      "LSTM forecast model evaluation for SPY stock\n",
      "Test RMSE : 30.66561\n",
      "Test MAE for : 24.58419\n",
      "Test R-squared for : 0.71\n",
      "\n",
      "💾 SPY LSTM model saved to                 ..\\model\\SPY_lstm_model.pkl\n",
      "\n",
      "💾 Plot saved to ..\\insights\\model\\SPY_stock_price_prediction_lstm.png\n"
     ]
    },
    {
     "data": {
      "image/png": "[encoded data removed]",
      "text/plain": [
       "<Figure size 1200x400 with 1 Axes>"
      ]
     },
     "metadata": {},
     "output_type": "display_data"
    }
   ],
   "source": [
    "# S&P 500 ETF (SPY)\n",
    "forecastor = TimeSeriesForecastingLSTM(\n",
    "    stock_name=\"SPY\",\n",
    "    processed_dir=os.path.join(\n",
    "        ntbk_dir, \"..\", \"data/processed/SPY_stock_price_enriched.csv\"\n",
    "    ),\n",
    "    plot_dir=plot_dir,\n",
    "    model_dir=model_dir,\n",
    ")\n",
    "forecastor.forecastor_model()"
   ]
  }
 ],
 "metadata": {
  "kernelspec": {
   "display_name": ".tslvenv",
   "language": "python",
   "name": "python3"
  },
  "language_info": {
   "codemirror_mode": {
    "name": "ipython",
    "version": 3
   },
   "file_extension": ".py",
   "mimetype": "text/x-python",
   "name": "python",
   "nbconvert_exporter": "python",
   "pygments_lexer": "ipython3",
   "version": "3.11.9"
  }
 },
 "nbformat": 4,
 "nbformat_minor": 5
}
