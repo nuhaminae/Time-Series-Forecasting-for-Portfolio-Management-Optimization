{
 "cells": [
  {
   "cell_type": "markdown",
   "id": "61f87064",
   "metadata": {},
   "source": [
    "# **Import Modules**"
   ]
  },
  {
   "cell_type": "markdown",
   "id": "ee55dd25",
   "metadata": {},
   "source": [
    "## *python*"
   ]
  },
  {
   "cell_type": "code",
   "execution_count": 1,
   "id": "a350f963",
   "metadata": {},
   "outputs": [],
   "source": [
    "# Import python modules\n",
    "import os\n",
    "import sys"
   ]
  },
  {
   "cell_type": "markdown",
   "id": "c3241a97",
   "metadata": {},
   "source": [
    "## *custom*"
   ]
  },
  {
   "cell_type": "code",
   "execution_count": 2,
   "id": "4703c52f",
   "metadata": {},
   "outputs": [
    {
     "name": "stdout",
     "output_type": "stream",
     "text": [
      "Module successfully imported.\n"
     ]
    }
   ],
   "source": [
    "# Import customised modules\n",
    "\n",
    "# Define path\n",
    "sys.path.append(os.path.abspath(os.path.join(\"..\")))\n",
    "\n",
    "# Import relevant modules\n",
    "try:\n",
    "    from scripts._04_finetune_LSTM import FineTuningLSTM\n",
    "\n",
    "    print(\"Module successfully imported.\")\n",
    "\n",
    "except ImportError:\n",
    "    print(\"Could not import module from `scripts/`.\")"
   ]
  },
  {
   "cell_type": "markdown",
   "id": "d57376ee",
   "metadata": {},
   "source": [
    "# **Time Series Forecasting and Modelling (ARIMA)**"
   ]
  },
  {
   "cell_type": "code",
   "execution_count": 3,
   "id": "6a0637b7",
   "metadata": {},
   "outputs": [],
   "source": [
    "# Load class input paths\n",
    "# Specify directory\n",
    "ntbk_dir = os.getcwd()  # Gets the directory of the notebook\n",
    "plot_dir = os.path.join(ntbk_dir, \"..\", \"insights\", \"finetuned_model\")\n",
    "processed_dir = os.path.join(ntbk_dir, \"..\", \"data\", \"processed\")\n",
    "model_dir = os.path.join(ntbk_dir, \"..\", \"model\", \"finetuned_lstm\")"
   ]
  },
  {
   "cell_type": "markdown",
   "id": "ffb6bca3",
   "metadata": {},
   "source": [
    "## *TSLA*"
   ]
  },
  {
   "cell_type": "code",
   "execution_count": 4,
   "id": "8fb1fd6e",
   "metadata": {},
   "outputs": [
    {
     "name": "stdout",
     "output_type": "stream",
     "text": [
      "🧪 Running full finetuning pipeline...\n",
      "\n",
      "Datatypes changed.\n",
      "🔹DataFrame Head:\n"
     ]
    },
    {
     "data": {
      "application/vnd.microsoft.datawrangler.viewer.v0+json": {
       "columns": [
        {
         "name": "index",
         "rawType": "int64",
         "type": "integer"
        },
        {
         "name": "Date",
         "rawType": "datetime64[ns]",
         "type": "datetime"
        },
        {
         "name": "Close",
         "rawType": "float64",
         "type": "float"
        },
        {
         "name": "High",
         "rawType": "float64",
         "type": "float"
        },
        {
         "name": "Low",
         "rawType": "float64",
         "type": "float"
        },
        {
         "name": "Open",
         "rawType": "float64",
         "type": "float"
        },
        {
         "name": "Volume",
         "rawType": "int32",
         "type": "integer"
        },
        {
         "name": "Trend",
         "rawType": "float64",
         "type": "float"
        },
        {
         "name": "Volatility",
         "rawType": "float64",
         "type": "float"
        },
        {
         "name": "Daily Return",
         "rawType": "float64",
         "type": "float"
        }
       ],
       "ref": "6086542b-bd59-4b67-8944-f4fb926321e7",
       "rows": [
        [
         "0",
         "2015-07-02 00:00:00",
         "18.667999267578125",
         "18.829999923706055",
         "18.220666885375977",
         "18.68000030517578",
         "107458500",
         null,
         null,
         "0.0403863991545445"
        ],
        [
         "1",
         "2015-07-06 00:00:00",
         "18.648000717163086",
         "18.779333114624023",
         "18.420000076293945",
         "18.591999053955078",
         "61828500",
         null,
         null,
         "-0.0010712744375221"
        ],
        [
         "2",
         "2015-07-07 00:00:00",
         "17.858667373657227",
         "18.34666633605957",
         "17.384666442871094",
         "18.333332061767578",
         "91576500",
         null,
         null,
         "-0.0423280412456966"
        ],
        [
         "3",
         "2015-07-08 00:00:00",
         "16.997333526611328",
         "17.386667251586914",
         "16.95400047302246",
         "17.288000106811523",
         "93316500",
         null,
         null,
         "-0.0482305778490743"
        ],
        [
         "4",
         "2015-07-09 00:00:00",
         "17.19466781616211",
         "17.530000686645508",
         "17.119333267211914",
         "17.27199935913086",
         "50011500",
         null,
         null,
         "0.0116097203859553"
        ]
       ],
       "shape": {
        "columns": 9,
        "rows": 5
       }
      },
      "text/html": [
       "<div>\n",
       "<style scoped>\n",
       "    .dataframe tbody tr th:only-of-type {\n",
       "        vertical-align: middle;\n",
       "    }\n",
       "\n",
       "    .dataframe tbody tr th {\n",
       "        vertical-align: top;\n",
       "    }\n",
       "\n",
       "    .dataframe thead th {\n",
       "        text-align: right;\n",
       "    }\n",
       "</style>\n",
       "<table border=\"1\" class=\"dataframe\">\n",
       "  <thead>\n",
       "    <tr style=\"text-align: right;\">\n",
       "      <th></th>\n",
       "      <th>Date</th>\n",
       "      <th>Close</th>\n",
       "      <th>High</th>\n",
       "      <th>Low</th>\n",
       "      <th>Open</th>\n",
       "      <th>Volume</th>\n",
       "      <th>Trend</th>\n",
       "      <th>Volatility</th>\n",
       "      <th>Daily Return</th>\n",
       "    </tr>\n",
       "  </thead>\n",
       "  <tbody>\n",
       "    <tr>\n",
       "      <th>0</th>\n",
       "      <td>2015-07-02</td>\n",
       "      <td>18.667999</td>\n",
       "      <td>18.830000</td>\n",
       "      <td>18.220667</td>\n",
       "      <td>18.680000</td>\n",
       "      <td>107458500</td>\n",
       "      <td>NaN</td>\n",
       "      <td>NaN</td>\n",
       "      <td>0.040386</td>\n",
       "    </tr>\n",
       "    <tr>\n",
       "      <th>1</th>\n",
       "      <td>2015-07-06</td>\n",
       "      <td>18.648001</td>\n",
       "      <td>18.779333</td>\n",
       "      <td>18.420000</td>\n",
       "      <td>18.591999</td>\n",
       "      <td>61828500</td>\n",
       "      <td>NaN</td>\n",
       "      <td>NaN</td>\n",
       "      <td>-0.001071</td>\n",
       "    </tr>\n",
       "    <tr>\n",
       "      <th>2</th>\n",
       "      <td>2015-07-07</td>\n",
       "      <td>17.858667</td>\n",
       "      <td>18.346666</td>\n",
       "      <td>17.384666</td>\n",
       "      <td>18.333332</td>\n",
       "      <td>91576500</td>\n",
       "      <td>NaN</td>\n",
       "      <td>NaN</td>\n",
       "      <td>-0.042328</td>\n",
       "    </tr>\n",
       "    <tr>\n",
       "      <th>3</th>\n",
       "      <td>2015-07-08</td>\n",
       "      <td>16.997334</td>\n",
       "      <td>17.386667</td>\n",
       "      <td>16.954000</td>\n",
       "      <td>17.288000</td>\n",
       "      <td>93316500</td>\n",
       "      <td>NaN</td>\n",
       "      <td>NaN</td>\n",
       "      <td>-0.048231</td>\n",
       "    </tr>\n",
       "    <tr>\n",
       "      <th>4</th>\n",
       "      <td>2015-07-09</td>\n",
       "      <td>17.194668</td>\n",
       "      <td>17.530001</td>\n",
       "      <td>17.119333</td>\n",
       "      <td>17.271999</td>\n",
       "      <td>50011500</td>\n",
       "      <td>NaN</td>\n",
       "      <td>NaN</td>\n",
       "      <td>0.011610</td>\n",
       "    </tr>\n",
       "  </tbody>\n",
       "</table>\n",
       "</div>"
      ],
      "text/plain": [
       "        Date      Close       High        Low       Open     Volume  Trend  \\\n",
       "0 2015-07-02  18.667999  18.830000  18.220667  18.680000  107458500    NaN   \n",
       "1 2015-07-06  18.648001  18.779333  18.420000  18.591999   61828500    NaN   \n",
       "2 2015-07-07  17.858667  18.346666  17.384666  18.333332   91576500    NaN   \n",
       "3 2015-07-08  16.997334  17.386667  16.954000  17.288000   93316500    NaN   \n",
       "4 2015-07-09  17.194668  17.530001  17.119333  17.271999   50011500    NaN   \n",
       "\n",
       "   Volatility  Daily Return  \n",
       "0         NaN      0.040386  \n",
       "1         NaN     -0.001071  \n",
       "2         NaN     -0.042328  \n",
       "3         NaN     -0.048231  \n",
       "4         NaN      0.011610  "
      ]
     },
     "metadata": {},
     "output_type": "display_data"
    },
    {
     "name": "stdout",
     "output_type": "stream",
     "text": [
      "\n",
      "🔹 Shape: (2534, 9)\n",
      "\n",
      "🔹 Columns: ['Date', 'Close', 'High', 'Low', 'Open', 'Volume', 'Trend', 'Volatility', 'Daily Return']\n",
      "\n",
      "🔹 DataFrame Info:\n",
      "<class 'pandas.core.frame.DataFrame'>\n",
      "RangeIndex: 2534 entries, 0 to 2533\n",
      "Data columns (total 9 columns):\n",
      " #   Column        Non-Null Count  Dtype         \n",
      "---  ------        --------------  -----         \n",
      " 0   Date          2534 non-null   datetime64[ns]\n",
      " 1   Close         2534 non-null   float64       \n",
      " 2   High          2534 non-null   float64       \n",
      " 3   Low           2534 non-null   float64       \n",
      " 4   Open          2534 non-null   float64       \n",
      " 5   Volume        2534 non-null   int32         \n",
      " 6   Trend         2506 non-null   float64       \n",
      " 7   Volatility    2506 non-null   float64       \n",
      " 8   Daily Return  2534 non-null   float64       \n",
      "dtypes: datetime64[ns](1), float64(7), int32(1)\n",
      "memory usage: 168.4 KB\n",
      "\n",
      "\n",
      "💎 New column 'Log Close' is computed.\n",
      "\n",
      "💾 Enriched data saved to ..\\data\\processed\\TSLA_log_enriched.csv\n"
     ]
    },
    {
     "data": {
      "application/vnd.microsoft.datawrangler.viewer.v0+json": {
       "columns": [
        {
         "name": "index",
         "rawType": "int64",
         "type": "integer"
        },
        {
         "name": "Date",
         "rawType": "datetime64[ns]",
         "type": "datetime"
        },
        {
         "name": "Close",
         "rawType": "float64",
         "type": "float"
        },
        {
         "name": "High",
         "rawType": "float64",
         "type": "float"
        },
        {
         "name": "Low",
         "rawType": "float64",
         "type": "float"
        },
        {
         "name": "Open",
         "rawType": "float64",
         "type": "float"
        },
        {
         "name": "Volume",
         "rawType": "int32",
         "type": "integer"
        },
        {
         "name": "Trend",
         "rawType": "float64",
         "type": "float"
        },
        {
         "name": "Volatility",
         "rawType": "float64",
         "type": "float"
        },
        {
         "name": "Daily Return",
         "rawType": "float64",
         "type": "float"
        },
        {
         "name": "Log Close",
         "rawType": "float64",
         "type": "float"
        }
       ],
       "ref": "5dcf7513-d999-47b4-8110-a7ce6f76571f",
       "rows": [
        [
         "0",
         "2015-07-02 00:00:00",
         "18.667999267578125",
         "18.829999923706055",
         "18.220666885375977",
         "18.68000030517578",
         "107458500",
         null,
         null,
         "0.0403863991545445",
         "2.926810788853485"
        ],
        [
         "1",
         "2015-07-06 00:00:00",
         "18.648000717163086",
         "18.779333114624023",
         "18.420000076293945",
         "18.591999053955078",
         "61828500",
         null,
         null,
         "-0.0010712744375221",
         "2.9257389401913643"
        ],
        [
         "2",
         "2015-07-07 00:00:00",
         "17.858667373657227",
         "18.34666633605957",
         "17.384666442871094",
         "18.333332061767578",
         "91576500",
         null,
         null,
         "-0.0423280412456966",
         "2.8824889575277317"
        ],
        [
         "3",
         "2015-07-08 00:00:00",
         "16.997333526611328",
         "17.386667251586914",
         "16.95400047302246",
         "17.288000106811523",
         "93316500",
         null,
         null,
         "-0.0482305778490743",
         "2.8330564803779485"
        ],
        [
         "4",
         "2015-07-09 00:00:00",
         "17.19466781616211",
         "17.530000686645508",
         "17.119333267211914",
         "17.27199935913086",
         "50011500",
         null,
         null,
         "0.0116097203859553",
         "2.844599325067911"
        ]
       ],
       "shape": {
        "columns": 10,
        "rows": 5
       }
      },
      "text/html": [
       "<div>\n",
       "<style scoped>\n",
       "    .dataframe tbody tr th:only-of-type {\n",
       "        vertical-align: middle;\n",
       "    }\n",
       "\n",
       "    .dataframe tbody tr th {\n",
       "        vertical-align: top;\n",
       "    }\n",
       "\n",
       "    .dataframe thead th {\n",
       "        text-align: right;\n",
       "    }\n",
       "</style>\n",
       "<table border=\"1\" class=\"dataframe\">\n",
       "  <thead>\n",
       "    <tr style=\"text-align: right;\">\n",
       "      <th></th>\n",
       "      <th>Date</th>\n",
       "      <th>Close</th>\n",
       "      <th>High</th>\n",
       "      <th>Low</th>\n",
       "      <th>Open</th>\n",
       "      <th>Volume</th>\n",
       "      <th>Trend</th>\n",
       "      <th>Volatility</th>\n",
       "      <th>Daily Return</th>\n",
       "      <th>Log Close</th>\n",
       "    </tr>\n",
       "  </thead>\n",
       "  <tbody>\n",
       "    <tr>\n",
       "      <th>0</th>\n",
       "      <td>2015-07-02</td>\n",
       "      <td>18.667999</td>\n",
       "      <td>18.830000</td>\n",
       "      <td>18.220667</td>\n",
       "      <td>18.680000</td>\n",
       "      <td>107458500</td>\n",
       "      <td>NaN</td>\n",
       "      <td>NaN</td>\n",
       "      <td>0.040386</td>\n",
       "      <td>2.926811</td>\n",
       "    </tr>\n",
       "    <tr>\n",
       "      <th>1</th>\n",
       "      <td>2015-07-06</td>\n",
       "      <td>18.648001</td>\n",
       "      <td>18.779333</td>\n",
       "      <td>18.420000</td>\n",
       "      <td>18.591999</td>\n",
       "      <td>61828500</td>\n",
       "      <td>NaN</td>\n",
       "      <td>NaN</td>\n",
       "      <td>-0.001071</td>\n",
       "      <td>2.925739</td>\n",
       "    </tr>\n",
       "    <tr>\n",
       "      <th>2</th>\n",
       "      <td>2015-07-07</td>\n",
       "      <td>17.858667</td>\n",
       "      <td>18.346666</td>\n",
       "      <td>17.384666</td>\n",
       "      <td>18.333332</td>\n",
       "      <td>91576500</td>\n",
       "      <td>NaN</td>\n",
       "      <td>NaN</td>\n",
       "      <td>-0.042328</td>\n",
       "      <td>2.882489</td>\n",
       "    </tr>\n",
       "    <tr>\n",
       "      <th>3</th>\n",
       "      <td>2015-07-08</td>\n",
       "      <td>16.997334</td>\n",
       "      <td>17.386667</td>\n",
       "      <td>16.954000</td>\n",
       "      <td>17.288000</td>\n",
       "      <td>93316500</td>\n",
       "      <td>NaN</td>\n",
       "      <td>NaN</td>\n",
       "      <td>-0.048231</td>\n",
       "      <td>2.833056</td>\n",
       "    </tr>\n",
       "    <tr>\n",
       "      <th>4</th>\n",
       "      <td>2015-07-09</td>\n",
       "      <td>17.194668</td>\n",
       "      <td>17.530001</td>\n",
       "      <td>17.119333</td>\n",
       "      <td>17.271999</td>\n",
       "      <td>50011500</td>\n",
       "      <td>NaN</td>\n",
       "      <td>NaN</td>\n",
       "      <td>0.011610</td>\n",
       "      <td>2.844599</td>\n",
       "    </tr>\n",
       "  </tbody>\n",
       "</table>\n",
       "</div>"
      ],
      "text/plain": [
       "        Date      Close       High        Low       Open     Volume  Trend  \\\n",
       "0 2015-07-02  18.667999  18.830000  18.220667  18.680000  107458500    NaN   \n",
       "1 2015-07-06  18.648001  18.779333  18.420000  18.591999   61828500    NaN   \n",
       "2 2015-07-07  17.858667  18.346666  17.384666  18.333332   91576500    NaN   \n",
       "3 2015-07-08  16.997334  17.386667  16.954000  17.288000   93316500    NaN   \n",
       "4 2015-07-09  17.194668  17.530001  17.119333  17.271999   50011500    NaN   \n",
       "\n",
       "   Volatility  Daily Return  Log Close  \n",
       "0         NaN      0.040386   2.926811  \n",
       "1         NaN     -0.001071   2.925739  \n",
       "2         NaN     -0.042328   2.882489  \n",
       "3         NaN     -0.048231   2.833056  \n",
       "4         NaN      0.011610   2.844599  "
      ]
     },
     "metadata": {},
     "output_type": "display_data"
    },
    {
     "name": "stdout",
     "output_type": "stream",
     "text": [
      "🪓 Data splitting completed.\n",
      "⚖️ Data scaling completed.\n",
      "Reloading Tuner from .\\TSLA_temp_lstm_tuning\\tuner0.json\n",
      "\n",
      "💾 Best hyperparameters saved to ..\\data\\processed\\TSLA_best_hyperparameters.json\n",
      "\n",
      "🥇 Best Model Summary and Hyperparameters\n"
     ]
    },
    {
     "data": {
      "text/html": [
       "<pre style=\"white-space:pre;overflow-x:auto;line-height:normal;font-family:Menlo,'DejaVu Sans Mono',consolas,'Courier New',monospace\"><span style=\"font-weight: bold\">Model: \"functional\"</span>\n",
       "</pre>\n"
      ],
      "text/plain": [
       "\u001b[1mModel: \"functional\"\u001b[0m\n"
      ]
     },
     "metadata": {},
     "output_type": "display_data"
    },
    {
     "data": {
      "text/html": [
       "<pre style=\"white-space:pre;overflow-x:auto;line-height:normal;font-family:Menlo,'DejaVu Sans Mono',consolas,'Courier New',monospace\">┏━━━━━━━━━━━━━━━━━━━━━━━━━━━━━━━━━┳━━━━━━━━━━━━━━━━━━━━━━━━┳━━━━━━━━━━━━━━━┓\n",
       "┃<span style=\"font-weight: bold\"> Layer (type)                    </span>┃<span style=\"font-weight: bold\"> Output Shape           </span>┃<span style=\"font-weight: bold\">       Param # </span>┃\n",
       "┡━━━━━━━━━━━━━━━━━━━━━━━━━━━━━━━━━╇━━━━━━━━━━━━━━━━━━━━━━━━╇━━━━━━━━━━━━━━━┩\n",
       "│ input_layer (<span style=\"color: #0087ff; text-decoration-color: #0087ff\">InputLayer</span>)        │ (<span style=\"color: #00d7ff; text-decoration-color: #00d7ff\">None</span>, <span style=\"color: #00af00; text-decoration-color: #00af00\">120</span>, <span style=\"color: #00af00; text-decoration-color: #00af00\">4</span>)         │             <span style=\"color: #00af00; text-decoration-color: #00af00\">0</span> │\n",
       "├─────────────────────────────────┼────────────────────────┼───────────────┤\n",
       "│ lstm (<span style=\"color: #0087ff; text-decoration-color: #0087ff\">LSTM</span>)                     │ (<span style=\"color: #00d7ff; text-decoration-color: #00d7ff\">None</span>, <span style=\"color: #00af00; text-decoration-color: #00af00\">120</span>, <span style=\"color: #00af00; text-decoration-color: #00af00\">120</span>)       │        <span style=\"color: #00af00; text-decoration-color: #00af00\">60,000</span> │\n",
       "├─────────────────────────────────┼────────────────────────┼───────────────┤\n",
       "│ lstm_1 (<span style=\"color: #0087ff; text-decoration-color: #0087ff\">LSTM</span>)                   │ (<span style=\"color: #00d7ff; text-decoration-color: #00d7ff\">None</span>, <span style=\"color: #00af00; text-decoration-color: #00af00\">72</span>)             │        <span style=\"color: #00af00; text-decoration-color: #00af00\">55,584</span> │\n",
       "├─────────────────────────────────┼────────────────────────┼───────────────┤\n",
       "│ dropout (<span style=\"color: #0087ff; text-decoration-color: #0087ff\">Dropout</span>)               │ (<span style=\"color: #00d7ff; text-decoration-color: #00d7ff\">None</span>, <span style=\"color: #00af00; text-decoration-color: #00af00\">72</span>)             │             <span style=\"color: #00af00; text-decoration-color: #00af00\">0</span> │\n",
       "├─────────────────────────────────┼────────────────────────┼───────────────┤\n",
       "│ dense (<span style=\"color: #0087ff; text-decoration-color: #0087ff\">Dense</span>)                   │ (<span style=\"color: #00d7ff; text-decoration-color: #00d7ff\">None</span>, <span style=\"color: #00af00; text-decoration-color: #00af00\">1</span>)              │            <span style=\"color: #00af00; text-decoration-color: #00af00\">73</span> │\n",
       "└─────────────────────────────────┴────────────────────────┴───────────────┘\n",
       "</pre>\n"
      ],
      "text/plain": [
       "┏━━━━━━━━━━━━━━━━━━━━━━━━━━━━━━━━━┳━━━━━━━━━━━━━━━━━━━━━━━━┳━━━━━━━━━━━━━━━┓\n",
       "┃\u001b[1m \u001b[0m\u001b[1mLayer (type)                   \u001b[0m\u001b[1m \u001b[0m┃\u001b[1m \u001b[0m\u001b[1mOutput Shape          \u001b[0m\u001b[1m \u001b[0m┃\u001b[1m \u001b[0m\u001b[1m      Param #\u001b[0m\u001b[1m \u001b[0m┃\n",
       "┡━━━━━━━━━━━━━━━━━━━━━━━━━━━━━━━━━╇━━━━━━━━━━━━━━━━━━━━━━━━╇━━━━━━━━━━━━━━━┩\n",
       "│ input_layer (\u001b[38;5;33mInputLayer\u001b[0m)        │ (\u001b[38;5;45mNone\u001b[0m, \u001b[38;5;34m120\u001b[0m, \u001b[38;5;34m4\u001b[0m)         │             \u001b[38;5;34m0\u001b[0m │\n",
       "├─────────────────────────────────┼────────────────────────┼───────────────┤\n",
       "│ lstm (\u001b[38;5;33mLSTM\u001b[0m)                     │ (\u001b[38;5;45mNone\u001b[0m, \u001b[38;5;34m120\u001b[0m, \u001b[38;5;34m120\u001b[0m)       │        \u001b[38;5;34m60,000\u001b[0m │\n",
       "├─────────────────────────────────┼────────────────────────┼───────────────┤\n",
       "│ lstm_1 (\u001b[38;5;33mLSTM\u001b[0m)                   │ (\u001b[38;5;45mNone\u001b[0m, \u001b[38;5;34m72\u001b[0m)             │        \u001b[38;5;34m55,584\u001b[0m │\n",
       "├─────────────────────────────────┼────────────────────────┼───────────────┤\n",
       "│ dropout (\u001b[38;5;33mDropout\u001b[0m)               │ (\u001b[38;5;45mNone\u001b[0m, \u001b[38;5;34m72\u001b[0m)             │             \u001b[38;5;34m0\u001b[0m │\n",
       "├─────────────────────────────────┼────────────────────────┼───────────────┤\n",
       "│ dense (\u001b[38;5;33mDense\u001b[0m)                   │ (\u001b[38;5;45mNone\u001b[0m, \u001b[38;5;34m1\u001b[0m)              │            \u001b[38;5;34m73\u001b[0m │\n",
       "└─────────────────────────────────┴────────────────────────┴───────────────┘\n"
      ]
     },
     "metadata": {},
     "output_type": "display_data"
    },
    {
     "data": {
      "text/html": [
       "<pre style=\"white-space:pre;overflow-x:auto;line-height:normal;font-family:Menlo,'DejaVu Sans Mono',consolas,'Courier New',monospace\"><span style=\"font-weight: bold\"> Total params: </span><span style=\"color: #00af00; text-decoration-color: #00af00\">115,657</span> (451.79 KB)\n",
       "</pre>\n"
      ],
      "text/plain": [
       "\u001b[1m Total params: \u001b[0m\u001b[38;5;34m115,657\u001b[0m (451.79 KB)\n"
      ]
     },
     "metadata": {},
     "output_type": "display_data"
    },
    {
     "data": {
      "text/html": [
       "<pre style=\"white-space:pre;overflow-x:auto;line-height:normal;font-family:Menlo,'DejaVu Sans Mono',consolas,'Courier New',monospace\"><span style=\"font-weight: bold\"> Trainable params: </span><span style=\"color: #00af00; text-decoration-color: #00af00\">115,657</span> (451.79 KB)\n",
       "</pre>\n"
      ],
      "text/plain": [
       "\u001b[1m Trainable params: \u001b[0m\u001b[38;5;34m115,657\u001b[0m (451.79 KB)\n"
      ]
     },
     "metadata": {},
     "output_type": "display_data"
    },
    {
     "data": {
      "text/html": [
       "<pre style=\"white-space:pre;overflow-x:auto;line-height:normal;font-family:Menlo,'DejaVu Sans Mono',consolas,'Courier New',monospace\"><span style=\"font-weight: bold\"> Non-trainable params: </span><span style=\"color: #00af00; text-decoration-color: #00af00\">0</span> (0.00 B)\n",
       "</pre>\n"
      ],
      "text/plain": [
       "\u001b[1m Non-trainable params: \u001b[0m\u001b[38;5;34m0\u001b[0m (0.00 B)\n"
      ]
     },
     "metadata": {},
     "output_type": "display_data"
    },
    {
     "name": "stdout",
     "output_type": "stream",
     "text": [
      "None\n",
      "{'units_1': 120, 'units_2': 72, 'dropout': 0.30000000000000004, 'learning_rate': 0.01}\n",
      "\u001b[1m60/60\u001b[0m \u001b[32m━━━━━━━━━━━━━━━━━━━━\u001b[0m\u001b[37m\u001b[0m \u001b[1m10s\u001b[0m 120ms/step - loss: 0.0398 - val_loss: 0.0028\n",
      "\u001b[1m13/13\u001b[0m \u001b[32m━━━━━━━━━━━━━━━━━━━━\u001b[0m\u001b[37m\u001b[0m \u001b[1m1s\u001b[0m 51ms/step\n",
      "\u001b[1m60/60\u001b[0m \u001b[32m━━━━━━━━━━━━━━━━━━━━\u001b[0m\u001b[37m\u001b[0m \u001b[1m2s\u001b[0m 36ms/step\n",
      "\n",
      "💾 Fine-tuned LSTM model saved to ..\\model\\finetuned_lstm\\TSLA_lstm_model_tuned.keras\n",
      "\n",
      "TSLA evaluation metrics:\n",
      " {'RMSE': 0.1989388678565984, 'MAE': 0.16161821743821647, 'R²': 0.5234642791254283}\n",
      "\n",
      "💾 Plot saved to ..\\insights\\finetuned_model\\TSLA_asset_price_prediction_finetuned_lstm.png\n"
     ]
    },
    {
     "data": {
      "image/png": "[encoded data removed]",
      "text/plain": [
       "<Figure size 1200x400 with 1 Axes>"
      ]
     },
     "metadata": {},
     "output_type": "display_data"
    }
   ],
   "source": [
    "# Tesla (TSLA) Historical stock prices\n",
    "tuner = FineTuningLSTM(\n",
    "    asset_name=\"TSLA\",\n",
    "    processed_dir=processed_dir,\n",
    "    processed_path=os.path.join(\n",
    "        ntbk_dir, \"..\", \"data/processed/TSLA_stock_price_enriched.csv\"\n",
    "    ),\n",
    "    plot_dir=plot_dir,\n",
    "    model_dir=model_dir,\n",
    "    look_back=120,  # To capture longer-term cycles and momentum shifts\n",
    "    project_name=\"TSLA_temp_lstm_tuning\",\n",
    ")\n",
    "tuner.finetune_model()"
   ]
  },
  {
   "cell_type": "markdown",
   "id": "877e0904",
   "metadata": {},
   "source": [
    "## *BND*"
   ]
  },
  {
   "cell_type": "code",
   "execution_count": null,
   "id": "b968695b",
   "metadata": {},
   "outputs": [
    {
     "name": "stdout",
     "output_type": "stream",
     "text": [
      "🧪 Running full finetuning pipeline...\n",
      "\n",
      "Datatypes changed.\n",
      "🔹DataFrame Head:\n"
     ]
    },
    {
     "data": {
      "application/vnd.microsoft.datawrangler.viewer.v0+json": {
       "columns": [
        {
         "name": "index",
         "rawType": "int64",
         "type": "integer"
        },
        {
         "name": "Date",
         "rawType": "datetime64[ns]",
         "type": "datetime"
        },
        {
         "name": "Close",
         "rawType": "float64",
         "type": "float"
        },
        {
         "name": "High",
         "rawType": "float64",
         "type": "float"
        },
        {
         "name": "Low",
         "rawType": "float64",
         "type": "float"
        },
        {
         "name": "Open",
         "rawType": "float64",
         "type": "float"
        },
        {
         "name": "Volume",
         "rawType": "int32",
         "type": "integer"
        },
        {
         "name": "Trend",
         "rawType": "float64",
         "type": "float"
        },
        {
         "name": "Volatility",
         "rawType": "float64",
         "type": "float"
        },
        {
         "name": "Daily Return",
         "rawType": "float64",
         "type": "float"
        }
       ],
       "ref": "1ad2209b-e854-49f2-8beb-2aee397937eb",
       "rows": [
        [
         "0",
         "2015-07-02 00:00:00",
         "60.96709060668945",
         "61.027232147680586",
         "60.93701983619388",
         "60.93701983619388",
         "1060100",
         null,
         null,
         "0.0024716560854738"
        ],
        [
         "1",
         "2015-07-06 00:00:00",
         "61.177608489990234",
         "61.222717534251856",
         "61.057331087929136",
         "61.222717534251856",
         "2210700",
         null,
         null,
         "0.0034529757153556"
        ],
        [
         "2",
         "2015-07-07 00:00:00",
         "61.23772430419922",
         "61.470765615781524",
         "61.23772430419922",
         "61.41062980774991",
         "4183200",
         null,
         null,
         "0.0009826440701554"
        ],
        [
         "3",
         "2015-07-08 00:00:00",
         "61.410606384277344",
         "61.46322878086685",
         "61.3128749796032",
         "61.37301650010866",
         "1967800",
         null,
         null,
         "0.0028231303831496"
        ],
        [
         "4",
         "2015-07-09 00:00:00",
         "61.20765686035156",
         "61.32793995378113",
         "61.177586086994175",
         "61.31290169939565",
         "1670900",
         null,
         null,
         "-0.0033047959607469"
        ]
       ],
       "shape": {
        "columns": 9,
        "rows": 5
       }
      },
      "text/html": [
       "<div>\n",
       "<style scoped>\n",
       "    .dataframe tbody tr th:only-of-type {\n",
       "        vertical-align: middle;\n",
       "    }\n",
       "\n",
       "    .dataframe tbody tr th {\n",
       "        vertical-align: top;\n",
       "    }\n",
       "\n",
       "    .dataframe thead th {\n",
       "        text-align: right;\n",
       "    }\n",
       "</style>\n",
       "<table border=\"1\" class=\"dataframe\">\n",
       "  <thead>\n",
       "    <tr style=\"text-align: right;\">\n",
       "      <th></th>\n",
       "      <th>Date</th>\n",
       "      <th>Close</th>\n",
       "      <th>High</th>\n",
       "      <th>Low</th>\n",
       "      <th>Open</th>\n",
       "      <th>Volume</th>\n",
       "      <th>Trend</th>\n",
       "      <th>Volatility</th>\n",
       "      <th>Daily Return</th>\n",
       "    </tr>\n",
       "  </thead>\n",
       "  <tbody>\n",
       "    <tr>\n",
       "      <th>0</th>\n",
       "      <td>2015-07-02</td>\n",
       "      <td>60.967091</td>\n",
       "      <td>61.027232</td>\n",
       "      <td>60.937020</td>\n",
       "      <td>60.937020</td>\n",
       "      <td>1060100</td>\n",
       "      <td>NaN</td>\n",
       "      <td>NaN</td>\n",
       "      <td>0.002472</td>\n",
       "    </tr>\n",
       "    <tr>\n",
       "      <th>1</th>\n",
       "      <td>2015-07-06</td>\n",
       "      <td>61.177608</td>\n",
       "      <td>61.222718</td>\n",
       "      <td>61.057331</td>\n",
       "      <td>61.222718</td>\n",
       "      <td>2210700</td>\n",
       "      <td>NaN</td>\n",
       "      <td>NaN</td>\n",
       "      <td>0.003453</td>\n",
       "    </tr>\n",
       "    <tr>\n",
       "      <th>2</th>\n",
       "      <td>2015-07-07</td>\n",
       "      <td>61.237724</td>\n",
       "      <td>61.470766</td>\n",
       "      <td>61.237724</td>\n",
       "      <td>61.410630</td>\n",
       "      <td>4183200</td>\n",
       "      <td>NaN</td>\n",
       "      <td>NaN</td>\n",
       "      <td>0.000983</td>\n",
       "    </tr>\n",
       "    <tr>\n",
       "      <th>3</th>\n",
       "      <td>2015-07-08</td>\n",
       "      <td>61.410606</td>\n",
       "      <td>61.463229</td>\n",
       "      <td>61.312875</td>\n",
       "      <td>61.373017</td>\n",
       "      <td>1967800</td>\n",
       "      <td>NaN</td>\n",
       "      <td>NaN</td>\n",
       "      <td>0.002823</td>\n",
       "    </tr>\n",
       "    <tr>\n",
       "      <th>4</th>\n",
       "      <td>2015-07-09</td>\n",
       "      <td>61.207657</td>\n",
       "      <td>61.327940</td>\n",
       "      <td>61.177586</td>\n",
       "      <td>61.312902</td>\n",
       "      <td>1670900</td>\n",
       "      <td>NaN</td>\n",
       "      <td>NaN</td>\n",
       "      <td>-0.003305</td>\n",
       "    </tr>\n",
       "  </tbody>\n",
       "</table>\n",
       "</div>"
      ],
      "text/plain": [
       "        Date      Close       High        Low       Open   Volume  Trend  \\\n",
       "0 2015-07-02  60.967091  61.027232  60.937020  60.937020  1060100    NaN   \n",
       "1 2015-07-06  61.177608  61.222718  61.057331  61.222718  2210700    NaN   \n",
       "2 2015-07-07  61.237724  61.470766  61.237724  61.410630  4183200    NaN   \n",
       "3 2015-07-08  61.410606  61.463229  61.312875  61.373017  1967800    NaN   \n",
       "4 2015-07-09  61.207657  61.327940  61.177586  61.312902  1670900    NaN   \n",
       "\n",
       "   Volatility  Daily Return  \n",
       "0         NaN      0.002472  \n",
       "1         NaN      0.003453  \n",
       "2         NaN      0.000983  \n",
       "3         NaN      0.002823  \n",
       "4         NaN     -0.003305  "
      ]
     },
     "metadata": {},
     "output_type": "display_data"
    },
    {
     "name": "stdout",
     "output_type": "stream",
     "text": [
      "\n",
      "🔹 Shape: (2534, 9)\n",
      "\n",
      "🔹 Columns: ['Date', 'Close', 'High', 'Low', 'Open', 'Volume', 'Trend', 'Volatility', 'Daily Return']\n",
      "\n",
      "🔹 DataFrame Info:\n",
      "<class 'pandas.core.frame.DataFrame'>\n",
      "RangeIndex: 2534 entries, 0 to 2533\n",
      "Data columns (total 9 columns):\n",
      " #   Column        Non-Null Count  Dtype         \n",
      "---  ------        --------------  -----         \n",
      " 0   Date          2534 non-null   datetime64[ns]\n",
      " 1   Close         2534 non-null   float64       \n",
      " 2   High          2534 non-null   float64       \n",
      " 3   Low           2534 non-null   float64       \n",
      " 4   Open          2534 non-null   float64       \n",
      " 5   Volume        2534 non-null   int32         \n",
      " 6   Trend         2506 non-null   float64       \n",
      " 7   Volatility    2506 non-null   float64       \n",
      " 8   Daily Return  2534 non-null   float64       \n",
      "dtypes: datetime64[ns](1), float64(7), int32(1)\n",
      "memory usage: 168.4 KB\n",
      "\n",
      "\n",
      "💎 New column 'Log Close' is computed.\n",
      "\n",
      "💾 Enriched data saved to ..\\data\\processed\\BND_log_enriched.csv\n"
     ]
    },
    {
     "data": {
      "application/vnd.microsoft.datawrangler.viewer.v0+json": {
       "columns": [
        {
         "name": "index",
         "rawType": "int64",
         "type": "integer"
        },
        {
         "name": "Date",
         "rawType": "datetime64[ns]",
         "type": "datetime"
        },
        {
         "name": "Close",
         "rawType": "float64",
         "type": "float"
        },
        {
         "name": "High",
         "rawType": "float64",
         "type": "float"
        },
        {
         "name": "Low",
         "rawType": "float64",
         "type": "float"
        },
        {
         "name": "Open",
         "rawType": "float64",
         "type": "float"
        },
        {
         "name": "Volume",
         "rawType": "int32",
         "type": "integer"
        },
        {
         "name": "Trend",
         "rawType": "float64",
         "type": "float"
        },
        {
         "name": "Volatility",
         "rawType": "float64",
         "type": "float"
        },
        {
         "name": "Daily Return",
         "rawType": "float64",
         "type": "float"
        },
        {
         "name": "Log Close",
         "rawType": "float64",
         "type": "float"
        }
       ],
       "ref": "b269b1ae-16e6-4de6-b393-011c358eb64c",
       "rows": [
        [
         "0",
         "2015-07-02 00:00:00",
         "60.96709060668945",
         "61.027232147680586",
         "60.93701983619388",
         "60.93701983619388",
         "1060100",
         null,
         null,
         "0.0024716560854738",
         "4.110334220340774"
        ],
        [
         "1",
         "2015-07-06 00:00:00",
         "61.177608489990234",
         "61.222717534251856",
         "61.057331087929136",
         "61.222717534251856",
         "2210700",
         null,
         null,
         "0.0034529757153556",
         "4.113781248223367"
        ],
        [
         "2",
         "2015-07-07 00:00:00",
         "61.23772430419922",
         "61.470765615781524",
         "61.23772430419922",
         "61.41062980774991",
         "4183200",
         null,
         null,
         "0.0009826440701554",
         "4.1147634098148815"
        ],
        [
         "3",
         "2015-07-08 00:00:00",
         "61.410606384277344",
         "61.46322878086685",
         "61.3128749796032",
         "61.37301650010866",
         "1967800",
         null,
         null,
         "0.0028231303831496",
         "4.117582562649784"
        ],
        [
         "4",
         "2015-07-09 00:00:00",
         "61.20765686035156",
         "61.32793995378113",
         "61.177586086994175",
         "61.31290169939565",
         "1670900",
         null,
         null,
         "-0.0033047959607469",
         "4.1142722937896625"
        ]
       ],
       "shape": {
        "columns": 10,
        "rows": 5
       }
      },
      "text/html": [
       "<div>\n",
       "<style scoped>\n",
       "    .dataframe tbody tr th:only-of-type {\n",
       "        vertical-align: middle;\n",
       "    }\n",
       "\n",
       "    .dataframe tbody tr th {\n",
       "        vertical-align: top;\n",
       "    }\n",
       "\n",
       "    .dataframe thead th {\n",
       "        text-align: right;\n",
       "    }\n",
       "</style>\n",
       "<table border=\"1\" class=\"dataframe\">\n",
       "  <thead>\n",
       "    <tr style=\"text-align: right;\">\n",
       "      <th></th>\n",
       "      <th>Date</th>\n",
       "      <th>Close</th>\n",
       "      <th>High</th>\n",
       "      <th>Low</th>\n",
       "      <th>Open</th>\n",
       "      <th>Volume</th>\n",
       "      <th>Trend</th>\n",
       "      <th>Volatility</th>\n",
       "      <th>Daily Return</th>\n",
       "      <th>Log Close</th>\n",
       "    </tr>\n",
       "  </thead>\n",
       "  <tbody>\n",
       "    <tr>\n",
       "      <th>0</th>\n",
       "      <td>2015-07-02</td>\n",
       "      <td>60.967091</td>\n",
       "      <td>61.027232</td>\n",
       "      <td>60.937020</td>\n",
       "      <td>60.937020</td>\n",
       "      <td>1060100</td>\n",
       "      <td>NaN</td>\n",
       "      <td>NaN</td>\n",
       "      <td>0.002472</td>\n",
       "      <td>4.110334</td>\n",
       "    </tr>\n",
       "    <tr>\n",
       "      <th>1</th>\n",
       "      <td>2015-07-06</td>\n",
       "      <td>61.177608</td>\n",
       "      <td>61.222718</td>\n",
       "      <td>61.057331</td>\n",
       "      <td>61.222718</td>\n",
       "      <td>2210700</td>\n",
       "      <td>NaN</td>\n",
       "      <td>NaN</td>\n",
       "      <td>0.003453</td>\n",
       "      <td>4.113781</td>\n",
       "    </tr>\n",
       "    <tr>\n",
       "      <th>2</th>\n",
       "      <td>2015-07-07</td>\n",
       "      <td>61.237724</td>\n",
       "      <td>61.470766</td>\n",
       "      <td>61.237724</td>\n",
       "      <td>61.410630</td>\n",
       "      <td>4183200</td>\n",
       "      <td>NaN</td>\n",
       "      <td>NaN</td>\n",
       "      <td>0.000983</td>\n",
       "      <td>4.114763</td>\n",
       "    </tr>\n",
       "    <tr>\n",
       "      <th>3</th>\n",
       "      <td>2015-07-08</td>\n",
       "      <td>61.410606</td>\n",
       "      <td>61.463229</td>\n",
       "      <td>61.312875</td>\n",
       "      <td>61.373017</td>\n",
       "      <td>1967800</td>\n",
       "      <td>NaN</td>\n",
       "      <td>NaN</td>\n",
       "      <td>0.002823</td>\n",
       "      <td>4.117583</td>\n",
       "    </tr>\n",
       "    <tr>\n",
       "      <th>4</th>\n",
       "      <td>2015-07-09</td>\n",
       "      <td>61.207657</td>\n",
       "      <td>61.327940</td>\n",
       "      <td>61.177586</td>\n",
       "      <td>61.312902</td>\n",
       "      <td>1670900</td>\n",
       "      <td>NaN</td>\n",
       "      <td>NaN</td>\n",
       "      <td>-0.003305</td>\n",
       "      <td>4.114272</td>\n",
       "    </tr>\n",
       "  </tbody>\n",
       "</table>\n",
       "</div>"
      ],
      "text/plain": [
       "        Date      Close       High        Low       Open   Volume  Trend  \\\n",
       "0 2015-07-02  60.967091  61.027232  60.937020  60.937020  1060100    NaN   \n",
       "1 2015-07-06  61.177608  61.222718  61.057331  61.222718  2210700    NaN   \n",
       "2 2015-07-07  61.237724  61.470766  61.237724  61.410630  4183200    NaN   \n",
       "3 2015-07-08  61.410606  61.463229  61.312875  61.373017  1967800    NaN   \n",
       "4 2015-07-09  61.207657  61.327940  61.177586  61.312902  1670900    NaN   \n",
       "\n",
       "   Volatility  Daily Return  Log Close  \n",
       "0         NaN      0.002472   4.110334  \n",
       "1         NaN      0.003453   4.113781  \n",
       "2         NaN      0.000983   4.114763  \n",
       "3         NaN      0.002823   4.117583  \n",
       "4         NaN     -0.003305   4.114272  "
      ]
     },
     "metadata": {},
     "output_type": "display_data"
    },
    {
     "name": "stdout",
     "output_type": "stream",
     "text": [
      "🪓 Data splitting completed.\n",
      "⚖️ Data scaling completed.\n",
      "Reloading Tuner from .\\BND_temp_lstm_tuning\\tuner0.json\n",
      "\n",
      "💾 Best hyperparameters saved to ..\\data\\processed\\BND_best_hyperparameters.json\n",
      "\n",
      "🥇 Best Model Summary and Hyperparameters\n"
     ]
    },
    {
     "data": {
      "text/html": [
       "<pre style=\"white-space:pre;overflow-x:auto;line-height:normal;font-family:Menlo,'DejaVu Sans Mono',consolas,'Courier New',monospace\"><span style=\"font-weight: bold\">Model: \"functional_1\"</span>\n",
       "</pre>\n"
      ],
      "text/plain": [
       "\u001b[1mModel: \"functional_1\"\u001b[0m\n"
      ]
     },
     "metadata": {},
     "output_type": "display_data"
    },
    {
     "data": {
      "text/html": [
       "<pre style=\"white-space:pre;overflow-x:auto;line-height:normal;font-family:Menlo,'DejaVu Sans Mono',consolas,'Courier New',monospace\">┏━━━━━━━━━━━━━━━━━━━━━━━━━━━━━━━━━┳━━━━━━━━━━━━━━━━━━━━━━━━┳━━━━━━━━━━━━━━━┓\n",
       "┃<span style=\"font-weight: bold\"> Layer (type)                    </span>┃<span style=\"font-weight: bold\"> Output Shape           </span>┃<span style=\"font-weight: bold\">       Param # </span>┃\n",
       "┡━━━━━━━━━━━━━━━━━━━━━━━━━━━━━━━━━╇━━━━━━━━━━━━━━━━━━━━━━━━╇━━━━━━━━━━━━━━━┩\n",
       "│ input_layer_1 (<span style=\"color: #0087ff; text-decoration-color: #0087ff\">InputLayer</span>)      │ (<span style=\"color: #00d7ff; text-decoration-color: #00d7ff\">None</span>, <span style=\"color: #00af00; text-decoration-color: #00af00\">60</span>, <span style=\"color: #00af00; text-decoration-color: #00af00\">4</span>)          │             <span style=\"color: #00af00; text-decoration-color: #00af00\">0</span> │\n",
       "├─────────────────────────────────┼────────────────────────┼───────────────┤\n",
       "│ lstm_2 (<span style=\"color: #0087ff; text-decoration-color: #0087ff\">LSTM</span>)                   │ (<span style=\"color: #00d7ff; text-decoration-color: #00d7ff\">None</span>, <span style=\"color: #00af00; text-decoration-color: #00af00\">60</span>, <span style=\"color: #00af00; text-decoration-color: #00af00\">120</span>)        │        <span style=\"color: #00af00; text-decoration-color: #00af00\">60,000</span> │\n",
       "├─────────────────────────────────┼────────────────────────┼───────────────┤\n",
       "│ lstm_3 (<span style=\"color: #0087ff; text-decoration-color: #0087ff\">LSTM</span>)                   │ (<span style=\"color: #00d7ff; text-decoration-color: #00d7ff\">None</span>, <span style=\"color: #00af00; text-decoration-color: #00af00\">72</span>)             │        <span style=\"color: #00af00; text-decoration-color: #00af00\">55,584</span> │\n",
       "├─────────────────────────────────┼────────────────────────┼───────────────┤\n",
       "│ dropout_1 (<span style=\"color: #0087ff; text-decoration-color: #0087ff\">Dropout</span>)             │ (<span style=\"color: #00d7ff; text-decoration-color: #00d7ff\">None</span>, <span style=\"color: #00af00; text-decoration-color: #00af00\">72</span>)             │             <span style=\"color: #00af00; text-decoration-color: #00af00\">0</span> │\n",
       "├─────────────────────────────────┼────────────────────────┼───────────────┤\n",
       "│ dense_1 (<span style=\"color: #0087ff; text-decoration-color: #0087ff\">Dense</span>)                 │ (<span style=\"color: #00d7ff; text-decoration-color: #00d7ff\">None</span>, <span style=\"color: #00af00; text-decoration-color: #00af00\">1</span>)              │            <span style=\"color: #00af00; text-decoration-color: #00af00\">73</span> │\n",
       "└─────────────────────────────────┴────────────────────────┴───────────────┘\n",
       "</pre>\n"
      ],
      "text/plain": [
       "┏━━━━━━━━━━━━━━━━━━━━━━━━━━━━━━━━━┳━━━━━━━━━━━━━━━━━━━━━━━━┳━━━━━━━━━━━━━━━┓\n",
       "┃\u001b[1m \u001b[0m\u001b[1mLayer (type)                   \u001b[0m\u001b[1m \u001b[0m┃\u001b[1m \u001b[0m\u001b[1mOutput Shape          \u001b[0m\u001b[1m \u001b[0m┃\u001b[1m \u001b[0m\u001b[1m      Param #\u001b[0m\u001b[1m \u001b[0m┃\n",
       "┡━━━━━━━━━━━━━━━━━━━━━━━━━━━━━━━━━╇━━━━━━━━━━━━━━━━━━━━━━━━╇━━━━━━━━━━━━━━━┩\n",
       "│ input_layer_1 (\u001b[38;5;33mInputLayer\u001b[0m)      │ (\u001b[38;5;45mNone\u001b[0m, \u001b[38;5;34m60\u001b[0m, \u001b[38;5;34m4\u001b[0m)          │             \u001b[38;5;34m0\u001b[0m │\n",
       "├─────────────────────────────────┼────────────────────────┼───────────────┤\n",
       "│ lstm_2 (\u001b[38;5;33mLSTM\u001b[0m)                   │ (\u001b[38;5;45mNone\u001b[0m, \u001b[38;5;34m60\u001b[0m, \u001b[38;5;34m120\u001b[0m)        │        \u001b[38;5;34m60,000\u001b[0m │\n",
       "├─────────────────────────────────┼────────────────────────┼───────────────┤\n",
       "│ lstm_3 (\u001b[38;5;33mLSTM\u001b[0m)                   │ (\u001b[38;5;45mNone\u001b[0m, \u001b[38;5;34m72\u001b[0m)             │        \u001b[38;5;34m55,584\u001b[0m │\n",
       "├─────────────────────────────────┼────────────────────────┼───────────────┤\n",
       "│ dropout_1 (\u001b[38;5;33mDropout\u001b[0m)             │ (\u001b[38;5;45mNone\u001b[0m, \u001b[38;5;34m72\u001b[0m)             │             \u001b[38;5;34m0\u001b[0m │\n",
       "├─────────────────────────────────┼────────────────────────┼───────────────┤\n",
       "│ dense_1 (\u001b[38;5;33mDense\u001b[0m)                 │ (\u001b[38;5;45mNone\u001b[0m, \u001b[38;5;34m1\u001b[0m)              │            \u001b[38;5;34m73\u001b[0m │\n",
       "└─────────────────────────────────┴────────────────────────┴───────────────┘\n"
      ]
     },
     "metadata": {},
     "output_type": "display_data"
    },
    {
     "data": {
      "text/html": [
       "<pre style=\"white-space:pre;overflow-x:auto;line-height:normal;font-family:Menlo,'DejaVu Sans Mono',consolas,'Courier New',monospace\"><span style=\"font-weight: bold\"> Total params: </span><span style=\"color: #00af00; text-decoration-color: #00af00\">115,657</span> (451.79 KB)\n",
       "</pre>\n"
      ],
      "text/plain": [
       "\u001b[1m Total params: \u001b[0m\u001b[38;5;34m115,657\u001b[0m (451.79 KB)\n"
      ]
     },
     "metadata": {},
     "output_type": "display_data"
    },
    {
     "data": {
      "text/html": [
       "<pre style=\"white-space:pre;overflow-x:auto;line-height:normal;font-family:Menlo,'DejaVu Sans Mono',consolas,'Courier New',monospace\"><span style=\"font-weight: bold\"> Trainable params: </span><span style=\"color: #00af00; text-decoration-color: #00af00\">115,657</span> (451.79 KB)\n",
       "</pre>\n"
      ],
      "text/plain": [
       "\u001b[1m Trainable params: \u001b[0m\u001b[38;5;34m115,657\u001b[0m (451.79 KB)\n"
      ]
     },
     "metadata": {},
     "output_type": "display_data"
    },
    {
     "data": {
      "text/html": [
       "<pre style=\"white-space:pre;overflow-x:auto;line-height:normal;font-family:Menlo,'DejaVu Sans Mono',consolas,'Courier New',monospace\"><span style=\"font-weight: bold\"> Non-trainable params: </span><span style=\"color: #00af00; text-decoration-color: #00af00\">0</span> (0.00 B)\n",
       "</pre>\n"
      ],
      "text/plain": [
       "\u001b[1m Non-trainable params: \u001b[0m\u001b[38;5;34m0\u001b[0m (0.00 B)\n"
      ]
     },
     "metadata": {},
     "output_type": "display_data"
    },
    {
     "name": "stdout",
     "output_type": "stream",
     "text": [
      "None\n",
      "{'units_1': 120, 'units_2': 72, 'dropout': 0.30000000000000004, 'learning_rate': 0.01}\n",
      "\u001b[1m62/62\u001b[0m \u001b[32m━━━━━━━━━━━━━━━━━━━━\u001b[0m\u001b[37m\u001b[0m \u001b[1m6s\u001b[0m 62ms/step - loss: 0.0505 - val_loss: 0.0045\n",
      "\u001b[1m14/14\u001b[0m \u001b[32m━━━━━━━━━━━━━━━━━━━━\u001b[0m\u001b[37m\u001b[0m \u001b[1m1s\u001b[0m 37ms/step\n",
      "\u001b[1m62/62\u001b[0m \u001b[32m━━━━━━━━━━━━━━━━━━━━\u001b[0m\u001b[37m\u001b[0m \u001b[1m1s\u001b[0m 21ms/step\n",
      "\n",
      "💾 Fine-tuned LSTM model saved to ..\\model\\finetuned_lstm\\BND_lstm_model_tuned.keras\n",
      "\n",
      "BND evaluation metrics:\n",
      " {'RMSE': 0.016063509282404985, 'MAE': 0.014443425737341548, 'R²': 0.7203363894526467}\n",
      "\n",
      "💾 Plot saved to ..\\insights\\finetuned_model\\BND_asset_price_prediction_finetuned_lstm.png\n"
     ]
    },
    {
     "data": {
      "image/png": "[encoded data removed]",
      "text/plain": [
       "<Figure size 1200x400 with 1 Axes>"
      ]
     },
     "metadata": {},
     "output_type": "display_data"
    }
   ],
   "source": [
    "# Vanguard Total Bond Market ETF (BND)\n",
    "tuner = FineTuningLSTM(\n",
    "    asset_name=\"BND\",\n",
    "    processed_dir=processed_dir,\n",
    "    processed_path=os.path.join(\n",
    "        ntbk_dir, \"..\", \"data/processed/BND_stock_price_enriched.csv\"\n",
    "    ),\n",
    "    plot_dir=plot_dir,\n",
    "    model_dir=model_dir,\n",
    "    look_back=60,  # Shorter window suffices due to stability\n",
    "    project_name=\"BND_temp_lstm_tuning\",\n",
    ")\n",
    "tuner.finetune_model()"
   ]
  },
  {
   "cell_type": "markdown",
   "id": "31803b73",
   "metadata": {},
   "source": [
    "## *SPY*"
   ]
  },
  {
   "cell_type": "code",
   "execution_count": null,
   "id": "cb2ab1a8",
   "metadata": {},
   "outputs": [
    {
     "name": "stdout",
     "output_type": "stream",
     "text": [
      "🧪 Running full finetuning pipeline...\n",
      "\n",
      "Datatypes changed.\n",
      "🔹DataFrame Head:\n"
     ]
    },
    {
     "data": {
      "application/vnd.microsoft.datawrangler.viewer.v0+json": {
       "columns": [
        {
         "name": "index",
         "rawType": "int64",
         "type": "integer"
        },
        {
         "name": "Date",
         "rawType": "datetime64[ns]",
         "type": "datetime"
        },
        {
         "name": "Close",
         "rawType": "float64",
         "type": "float"
        },
        {
         "name": "High",
         "rawType": "float64",
         "type": "float"
        },
        {
         "name": "Low",
         "rawType": "float64",
         "type": "float"
        },
        {
         "name": "Open",
         "rawType": "float64",
         "type": "float"
        },
        {
         "name": "Volume",
         "rawType": "int32",
         "type": "integer"
        },
        {
         "name": "Trend",
         "rawType": "float64",
         "type": "float"
        },
        {
         "name": "Volatility",
         "rawType": "float64",
         "type": "float"
        },
        {
         "name": "Daily Return",
         "rawType": "float64",
         "type": "float"
        }
       ],
       "ref": "ddd03b9e-9e65-4df5-822e-085ce75cbc4a",
       "rows": [
        [
         "0",
         "2015-07-02 00:00:00",
         "174.75692749023438",
         "175.56618814172808",
         "174.33544051529762",
         "175.3975959243057",
         "104373700",
         null,
         null,
         "-0.0009159610132098"
        ],
        [
         "1",
         "2015-07-06 00:00:00",
         "174.25962829589844",
         "175.04358813066318",
         "173.25648693615517",
         "173.45880537549715",
         "117975400",
         null,
         null,
         "-0.0028456622663139"
        ],
        [
         "2",
         "2015-07-07 00:00:00",
         "175.35545349121094",
         "175.4818944449592",
         "172.05942209404085",
         "174.46190311735685",
         "173820200",
         null,
         null,
         "0.0062884628300237"
        ],
        [
         "3",
         "2015-07-08 00:00:00",
         "172.41343688964844",
         "174.29326493408666",
         "172.17740524562748",
         "174.0066569181698",
         "164020100",
         null,
         null,
         "-0.016777445713771"
        ],
        [
         "4",
         "2015-07-09 00:00:00",
         "172.72531127929688",
         "174.7906071978089",
         "172.61573344161343",
         "174.5292745380819",
         "144113100",
         null,
         null,
         "0.0018088751971694"
        ]
       ],
       "shape": {
        "columns": 9,
        "rows": 5
       }
      },
      "text/html": [
       "<div>\n",
       "<style scoped>\n",
       "    .dataframe tbody tr th:only-of-type {\n",
       "        vertical-align: middle;\n",
       "    }\n",
       "\n",
       "    .dataframe tbody tr th {\n",
       "        vertical-align: top;\n",
       "    }\n",
       "\n",
       "    .dataframe thead th {\n",
       "        text-align: right;\n",
       "    }\n",
       "</style>\n",
       "<table border=\"1\" class=\"dataframe\">\n",
       "  <thead>\n",
       "    <tr style=\"text-align: right;\">\n",
       "      <th></th>\n",
       "      <th>Date</th>\n",
       "      <th>Close</th>\n",
       "      <th>High</th>\n",
       "      <th>Low</th>\n",
       "      <th>Open</th>\n",
       "      <th>Volume</th>\n",
       "      <th>Trend</th>\n",
       "      <th>Volatility</th>\n",
       "      <th>Daily Return</th>\n",
       "    </tr>\n",
       "  </thead>\n",
       "  <tbody>\n",
       "    <tr>\n",
       "      <th>0</th>\n",
       "      <td>2015-07-02</td>\n",
       "      <td>174.756927</td>\n",
       "      <td>175.566188</td>\n",
       "      <td>174.335441</td>\n",
       "      <td>175.397596</td>\n",
       "      <td>104373700</td>\n",
       "      <td>NaN</td>\n",
       "      <td>NaN</td>\n",
       "      <td>-0.000916</td>\n",
       "    </tr>\n",
       "    <tr>\n",
       "      <th>1</th>\n",
       "      <td>2015-07-06</td>\n",
       "      <td>174.259628</td>\n",
       "      <td>175.043588</td>\n",
       "      <td>173.256487</td>\n",
       "      <td>173.458805</td>\n",
       "      <td>117975400</td>\n",
       "      <td>NaN</td>\n",
       "      <td>NaN</td>\n",
       "      <td>-0.002846</td>\n",
       "    </tr>\n",
       "    <tr>\n",
       "      <th>2</th>\n",
       "      <td>2015-07-07</td>\n",
       "      <td>175.355453</td>\n",
       "      <td>175.481894</td>\n",
       "      <td>172.059422</td>\n",
       "      <td>174.461903</td>\n",
       "      <td>173820200</td>\n",
       "      <td>NaN</td>\n",
       "      <td>NaN</td>\n",
       "      <td>0.006288</td>\n",
       "    </tr>\n",
       "    <tr>\n",
       "      <th>3</th>\n",
       "      <td>2015-07-08</td>\n",
       "      <td>172.413437</td>\n",
       "      <td>174.293265</td>\n",
       "      <td>172.177405</td>\n",
       "      <td>174.006657</td>\n",
       "      <td>164020100</td>\n",
       "      <td>NaN</td>\n",
       "      <td>NaN</td>\n",
       "      <td>-0.016777</td>\n",
       "    </tr>\n",
       "    <tr>\n",
       "      <th>4</th>\n",
       "      <td>2015-07-09</td>\n",
       "      <td>172.725311</td>\n",
       "      <td>174.790607</td>\n",
       "      <td>172.615733</td>\n",
       "      <td>174.529275</td>\n",
       "      <td>144113100</td>\n",
       "      <td>NaN</td>\n",
       "      <td>NaN</td>\n",
       "      <td>0.001809</td>\n",
       "    </tr>\n",
       "  </tbody>\n",
       "</table>\n",
       "</div>"
      ],
      "text/plain": [
       "        Date       Close        High         Low        Open     Volume  \\\n",
       "0 2015-07-02  174.756927  175.566188  174.335441  175.397596  104373700   \n",
       "1 2015-07-06  174.259628  175.043588  173.256487  173.458805  117975400   \n",
       "2 2015-07-07  175.355453  175.481894  172.059422  174.461903  173820200   \n",
       "3 2015-07-08  172.413437  174.293265  172.177405  174.006657  164020100   \n",
       "4 2015-07-09  172.725311  174.790607  172.615733  174.529275  144113100   \n",
       "\n",
       "   Trend  Volatility  Daily Return  \n",
       "0    NaN         NaN     -0.000916  \n",
       "1    NaN         NaN     -0.002846  \n",
       "2    NaN         NaN      0.006288  \n",
       "3    NaN         NaN     -0.016777  \n",
       "4    NaN         NaN      0.001809  "
      ]
     },
     "metadata": {},
     "output_type": "display_data"
    },
    {
     "name": "stdout",
     "output_type": "stream",
     "text": [
      "\n",
      "🔹 Shape: (2534, 9)\n",
      "\n",
      "🔹 Columns: ['Date', 'Close', 'High', 'Low', 'Open', 'Volume', 'Trend', 'Volatility', 'Daily Return']\n",
      "\n",
      "🔹 DataFrame Info:\n",
      "<class 'pandas.core.frame.DataFrame'>\n",
      "RangeIndex: 2534 entries, 0 to 2533\n",
      "Data columns (total 9 columns):\n",
      " #   Column        Non-Null Count  Dtype         \n",
      "---  ------        --------------  -----         \n",
      " 0   Date          2534 non-null   datetime64[ns]\n",
      " 1   Close         2534 non-null   float64       \n",
      " 2   High          2534 non-null   float64       \n",
      " 3   Low           2534 non-null   float64       \n",
      " 4   Open          2534 non-null   float64       \n",
      " 5   Volume        2534 non-null   int32         \n",
      " 6   Trend         2506 non-null   float64       \n",
      " 7   Volatility    2506 non-null   float64       \n",
      " 8   Daily Return  2534 non-null   float64       \n",
      "dtypes: datetime64[ns](1), float64(7), int32(1)\n",
      "memory usage: 168.4 KB\n",
      "\n",
      "\n",
      "💎 New column 'Log Close' is computed.\n",
      "\n",
      "💾 Enriched data saved to ..\\data\\processed\\SPY_log_enriched.csv\n"
     ]
    },
    {
     "data": {
      "application/vnd.microsoft.datawrangler.viewer.v0+json": {
       "columns": [
        {
         "name": "index",
         "rawType": "int64",
         "type": "integer"
        },
        {
         "name": "Date",
         "rawType": "datetime64[ns]",
         "type": "datetime"
        },
        {
         "name": "Close",
         "rawType": "float64",
         "type": "float"
        },
        {
         "name": "High",
         "rawType": "float64",
         "type": "float"
        },
        {
         "name": "Low",
         "rawType": "float64",
         "type": "float"
        },
        {
         "name": "Open",
         "rawType": "float64",
         "type": "float"
        },
        {
         "name": "Volume",
         "rawType": "int32",
         "type": "integer"
        },
        {
         "name": "Trend",
         "rawType": "float64",
         "type": "float"
        },
        {
         "name": "Volatility",
         "rawType": "float64",
         "type": "float"
        },
        {
         "name": "Daily Return",
         "rawType": "float64",
         "type": "float"
        },
        {
         "name": "Log Close",
         "rawType": "float64",
         "type": "float"
        }
       ],
       "ref": "d6095b7b-efc5-413e-be76-ced1c9c7f9fc",
       "rows": [
        [
         "0",
         "2015-07-02 00:00:00",
         "174.75692749023438",
         "175.56618814172808",
         "174.33544051529762",
         "175.3975959243057",
         "104373700",
         null,
         null,
         "-0.0009159610132098",
         "5.16339602261851"
        ],
        [
         "1",
         "2015-07-06 00:00:00",
         "174.25962829589844",
         "175.04358813066318",
         "173.25648693615517",
         "173.45880537549715",
         "117975400",
         null,
         null,
         "-0.0028456622663139",
         "5.160546303757703"
        ],
        [
         "2",
         "2015-07-07 00:00:00",
         "175.35545349121094",
         "175.4818944449592",
         "172.05942209404085",
         "174.46190311735685",
         "173820200",
         null,
         null,
         "0.0062884628300237",
         "5.166815076708281"
        ],
        [
         "3",
         "2015-07-08 00:00:00",
         "172.41343688964844",
         "174.29326493408666",
         "172.17740524562748",
         "174.0066569181698",
         "164020100",
         null,
         null,
         "-0.016777445713771",
         "5.14989529538759"
        ],
        [
         "4",
         "2015-07-09 00:00:00",
         "172.72531127929688",
         "174.7906071978089",
         "172.61573344161343",
         "174.5292745380819",
         "144113100",
         null,
         null,
         "0.0018088751971694",
         "5.151702536540245"
        ]
       ],
       "shape": {
        "columns": 10,
        "rows": 5
       }
      },
      "text/html": [
       "<div>\n",
       "<style scoped>\n",
       "    .dataframe tbody tr th:only-of-type {\n",
       "        vertical-align: middle;\n",
       "    }\n",
       "\n",
       "    .dataframe tbody tr th {\n",
       "        vertical-align: top;\n",
       "    }\n",
       "\n",
       "    .dataframe thead th {\n",
       "        text-align: right;\n",
       "    }\n",
       "</style>\n",
       "<table border=\"1\" class=\"dataframe\">\n",
       "  <thead>\n",
       "    <tr style=\"text-align: right;\">\n",
       "      <th></th>\n",
       "      <th>Date</th>\n",
       "      <th>Close</th>\n",
       "      <th>High</th>\n",
       "      <th>Low</th>\n",
       "      <th>Open</th>\n",
       "      <th>Volume</th>\n",
       "      <th>Trend</th>\n",
       "      <th>Volatility</th>\n",
       "      <th>Daily Return</th>\n",
       "      <th>Log Close</th>\n",
       "    </tr>\n",
       "  </thead>\n",
       "  <tbody>\n",
       "    <tr>\n",
       "      <th>0</th>\n",
       "      <td>2015-07-02</td>\n",
       "      <td>174.756927</td>\n",
       "      <td>175.566188</td>\n",
       "      <td>174.335441</td>\n",
       "      <td>175.397596</td>\n",
       "      <td>104373700</td>\n",
       "      <td>NaN</td>\n",
       "      <td>NaN</td>\n",
       "      <td>-0.000916</td>\n",
       "      <td>5.163396</td>\n",
       "    </tr>\n",
       "    <tr>\n",
       "      <th>1</th>\n",
       "      <td>2015-07-06</td>\n",
       "      <td>174.259628</td>\n",
       "      <td>175.043588</td>\n",
       "      <td>173.256487</td>\n",
       "      <td>173.458805</td>\n",
       "      <td>117975400</td>\n",
       "      <td>NaN</td>\n",
       "      <td>NaN</td>\n",
       "      <td>-0.002846</td>\n",
       "      <td>5.160546</td>\n",
       "    </tr>\n",
       "    <tr>\n",
       "      <th>2</th>\n",
       "      <td>2015-07-07</td>\n",
       "      <td>175.355453</td>\n",
       "      <td>175.481894</td>\n",
       "      <td>172.059422</td>\n",
       "      <td>174.461903</td>\n",
       "      <td>173820200</td>\n",
       "      <td>NaN</td>\n",
       "      <td>NaN</td>\n",
       "      <td>0.006288</td>\n",
       "      <td>5.166815</td>\n",
       "    </tr>\n",
       "    <tr>\n",
       "      <th>3</th>\n",
       "      <td>2015-07-08</td>\n",
       "      <td>172.413437</td>\n",
       "      <td>174.293265</td>\n",
       "      <td>172.177405</td>\n",
       "      <td>174.006657</td>\n",
       "      <td>164020100</td>\n",
       "      <td>NaN</td>\n",
       "      <td>NaN</td>\n",
       "      <td>-0.016777</td>\n",
       "      <td>5.149895</td>\n",
       "    </tr>\n",
       "    <tr>\n",
       "      <th>4</th>\n",
       "      <td>2015-07-09</td>\n",
       "      <td>172.725311</td>\n",
       "      <td>174.790607</td>\n",
       "      <td>172.615733</td>\n",
       "      <td>174.529275</td>\n",
       "      <td>144113100</td>\n",
       "      <td>NaN</td>\n",
       "      <td>NaN</td>\n",
       "      <td>0.001809</td>\n",
       "      <td>5.151703</td>\n",
       "    </tr>\n",
       "  </tbody>\n",
       "</table>\n",
       "</div>"
      ],
      "text/plain": [
       "        Date       Close        High         Low        Open     Volume  \\\n",
       "0 2015-07-02  174.756927  175.566188  174.335441  175.397596  104373700   \n",
       "1 2015-07-06  174.259628  175.043588  173.256487  173.458805  117975400   \n",
       "2 2015-07-07  175.355453  175.481894  172.059422  174.461903  173820200   \n",
       "3 2015-07-08  172.413437  174.293265  172.177405  174.006657  164020100   \n",
       "4 2015-07-09  172.725311  174.790607  172.615733  174.529275  144113100   \n",
       "\n",
       "   Trend  Volatility  Daily Return  Log Close  \n",
       "0    NaN         NaN     -0.000916   5.163396  \n",
       "1    NaN         NaN     -0.002846   5.160546  \n",
       "2    NaN         NaN      0.006288   5.166815  \n",
       "3    NaN         NaN     -0.016777   5.149895  \n",
       "4    NaN         NaN      0.001809   5.151703  "
      ]
     },
     "metadata": {},
     "output_type": "display_data"
    },
    {
     "name": "stdout",
     "output_type": "stream",
     "text": [
      "🪓 Data splitting completed.\n",
      "⚖️ Data scaling completed.\n",
      "Reloading Tuner from .\\SPY_temp_lstm_tuning\\tuner0.json\n",
      "\n",
      "💾 Best hyperparameters saved to ..\\data\\processed\\SPY_best_hyperparameters.json\n",
      "\n",
      "🥇 Best Model Summary and Hyperparameters\n"
     ]
    },
    {
     "data": {
      "text/html": [
       "<pre style=\"white-space:pre;overflow-x:auto;line-height:normal;font-family:Menlo,'DejaVu Sans Mono',consolas,'Courier New',monospace\"><span style=\"font-weight: bold\">Model: \"functional_2\"</span>\n",
       "</pre>\n"
      ],
      "text/plain": [
       "\u001b[1mModel: \"functional_2\"\u001b[0m\n"
      ]
     },
     "metadata": {},
     "output_type": "display_data"
    },
    {
     "data": {
      "text/html": [
       "<pre style=\"white-space:pre;overflow-x:auto;line-height:normal;font-family:Menlo,'DejaVu Sans Mono',consolas,'Courier New',monospace\">┏━━━━━━━━━━━━━━━━━━━━━━━━━━━━━━━━━┳━━━━━━━━━━━━━━━━━━━━━━━━┳━━━━━━━━━━━━━━━┓\n",
       "┃<span style=\"font-weight: bold\"> Layer (type)                    </span>┃<span style=\"font-weight: bold\"> Output Shape           </span>┃<span style=\"font-weight: bold\">       Param # </span>┃\n",
       "┡━━━━━━━━━━━━━━━━━━━━━━━━━━━━━━━━━╇━━━━━━━━━━━━━━━━━━━━━━━━╇━━━━━━━━━━━━━━━┩\n",
       "│ input_layer_2 (<span style=\"color: #0087ff; text-decoration-color: #0087ff\">InputLayer</span>)      │ (<span style=\"color: #00d7ff; text-decoration-color: #00d7ff\">None</span>, <span style=\"color: #00af00; text-decoration-color: #00af00\">90</span>, <span style=\"color: #00af00; text-decoration-color: #00af00\">4</span>)          │             <span style=\"color: #00af00; text-decoration-color: #00af00\">0</span> │\n",
       "├─────────────────────────────────┼────────────────────────┼───────────────┤\n",
       "│ lstm_4 (<span style=\"color: #0087ff; text-decoration-color: #0087ff\">LSTM</span>)                   │ (<span style=\"color: #00d7ff; text-decoration-color: #00d7ff\">None</span>, <span style=\"color: #00af00; text-decoration-color: #00af00\">90</span>, <span style=\"color: #00af00; text-decoration-color: #00af00\">120</span>)        │        <span style=\"color: #00af00; text-decoration-color: #00af00\">60,000</span> │\n",
       "├─────────────────────────────────┼────────────────────────┼───────────────┤\n",
       "│ lstm_5 (<span style=\"color: #0087ff; text-decoration-color: #0087ff\">LSTM</span>)                   │ (<span style=\"color: #00d7ff; text-decoration-color: #00d7ff\">None</span>, <span style=\"color: #00af00; text-decoration-color: #00af00\">104</span>)            │        <span style=\"color: #00af00; text-decoration-color: #00af00\">93,600</span> │\n",
       "├─────────────────────────────────┼────────────────────────┼───────────────┤\n",
       "│ dropout_2 (<span style=\"color: #0087ff; text-decoration-color: #0087ff\">Dropout</span>)             │ (<span style=\"color: #00d7ff; text-decoration-color: #00d7ff\">None</span>, <span style=\"color: #00af00; text-decoration-color: #00af00\">104</span>)            │             <span style=\"color: #00af00; text-decoration-color: #00af00\">0</span> │\n",
       "├─────────────────────────────────┼────────────────────────┼───────────────┤\n",
       "│ dense_2 (<span style=\"color: #0087ff; text-decoration-color: #0087ff\">Dense</span>)                 │ (<span style=\"color: #00d7ff; text-decoration-color: #00d7ff\">None</span>, <span style=\"color: #00af00; text-decoration-color: #00af00\">1</span>)              │           <span style=\"color: #00af00; text-decoration-color: #00af00\">105</span> │\n",
       "└─────────────────────────────────┴────────────────────────┴───────────────┘\n",
       "</pre>\n"
      ],
      "text/plain": [
       "┏━━━━━━━━━━━━━━━━━━━━━━━━━━━━━━━━━┳━━━━━━━━━━━━━━━━━━━━━━━━┳━━━━━━━━━━━━━━━┓\n",
       "┃\u001b[1m \u001b[0m\u001b[1mLayer (type)                   \u001b[0m\u001b[1m \u001b[0m┃\u001b[1m \u001b[0m\u001b[1mOutput Shape          \u001b[0m\u001b[1m \u001b[0m┃\u001b[1m \u001b[0m\u001b[1m      Param #\u001b[0m\u001b[1m \u001b[0m┃\n",
       "┡━━━━━━━━━━━━━━━━━━━━━━━━━━━━━━━━━╇━━━━━━━━━━━━━━━━━━━━━━━━╇━━━━━━━━━━━━━━━┩\n",
       "│ input_layer_2 (\u001b[38;5;33mInputLayer\u001b[0m)      │ (\u001b[38;5;45mNone\u001b[0m, \u001b[38;5;34m90\u001b[0m, \u001b[38;5;34m4\u001b[0m)          │             \u001b[38;5;34m0\u001b[0m │\n",
       "├─────────────────────────────────┼────────────────────────┼───────────────┤\n",
       "│ lstm_4 (\u001b[38;5;33mLSTM\u001b[0m)                   │ (\u001b[38;5;45mNone\u001b[0m, \u001b[38;5;34m90\u001b[0m, \u001b[38;5;34m120\u001b[0m)        │        \u001b[38;5;34m60,000\u001b[0m │\n",
       "├─────────────────────────────────┼────────────────────────┼───────────────┤\n",
       "│ lstm_5 (\u001b[38;5;33mLSTM\u001b[0m)                   │ (\u001b[38;5;45mNone\u001b[0m, \u001b[38;5;34m104\u001b[0m)            │        \u001b[38;5;34m93,600\u001b[0m │\n",
       "├─────────────────────────────────┼────────────────────────┼───────────────┤\n",
       "│ dropout_2 (\u001b[38;5;33mDropout\u001b[0m)             │ (\u001b[38;5;45mNone\u001b[0m, \u001b[38;5;34m104\u001b[0m)            │             \u001b[38;5;34m0\u001b[0m │\n",
       "├─────────────────────────────────┼────────────────────────┼───────────────┤\n",
       "│ dense_2 (\u001b[38;5;33mDense\u001b[0m)                 │ (\u001b[38;5;45mNone\u001b[0m, \u001b[38;5;34m1\u001b[0m)              │           \u001b[38;5;34m105\u001b[0m │\n",
       "└─────────────────────────────────┴────────────────────────┴───────────────┘\n"
      ]
     },
     "metadata": {},
     "output_type": "display_data"
    },
    {
     "data": {
      "text/html": [
       "<pre style=\"white-space:pre;overflow-x:auto;line-height:normal;font-family:Menlo,'DejaVu Sans Mono',consolas,'Courier New',monospace\"><span style=\"font-weight: bold\"> Total params: </span><span style=\"color: #00af00; text-decoration-color: #00af00\">153,705</span> (600.41 KB)\n",
       "</pre>\n"
      ],
      "text/plain": [
       "\u001b[1m Total params: \u001b[0m\u001b[38;5;34m153,705\u001b[0m (600.41 KB)\n"
      ]
     },
     "metadata": {},
     "output_type": "display_data"
    },
    {
     "data": {
      "text/html": [
       "<pre style=\"white-space:pre;overflow-x:auto;line-height:normal;font-family:Menlo,'DejaVu Sans Mono',consolas,'Courier New',monospace\"><span style=\"font-weight: bold\"> Trainable params: </span><span style=\"color: #00af00; text-decoration-color: #00af00\">153,705</span> (600.41 KB)\n",
       "</pre>\n"
      ],
      "text/plain": [
       "\u001b[1m Trainable params: \u001b[0m\u001b[38;5;34m153,705\u001b[0m (600.41 KB)\n"
      ]
     },
     "metadata": {},
     "output_type": "display_data"
    },
    {
     "data": {
      "text/html": [
       "<pre style=\"white-space:pre;overflow-x:auto;line-height:normal;font-family:Menlo,'DejaVu Sans Mono',consolas,'Courier New',monospace\"><span style=\"font-weight: bold\"> Non-trainable params: </span><span style=\"color: #00af00; text-decoration-color: #00af00\">0</span> (0.00 B)\n",
       "</pre>\n"
      ],
      "text/plain": [
       "\u001b[1m Non-trainable params: \u001b[0m\u001b[38;5;34m0\u001b[0m (0.00 B)\n"
      ]
     },
     "metadata": {},
     "output_type": "display_data"
    },
    {
     "name": "stdout",
     "output_type": "stream",
     "text": [
      "None\n",
      "{'units_1': 120, 'units_2': 104, 'dropout': 0.1, 'learning_rate': 0.001}\n",
      "\u001b[1m61/61\u001b[0m \u001b[32m━━━━━━━━━━━━━━━━━━━━\u001b[0m\u001b[37m\u001b[0m \u001b[1m9s\u001b[0m 101ms/step - loss: 0.0165 - val_loss: 0.0055\n",
      "\u001b[1m13/13\u001b[0m \u001b[32m━━━━━━━━━━━━━━━━━━━━\u001b[0m\u001b[37m\u001b[0m \u001b[1m1s\u001b[0m 45ms/step\n",
      "\u001b[1m61/61\u001b[0m \u001b[32m━━━━━━━━━━━━━━━━━━━━\u001b[0m\u001b[37m\u001b[0m \u001b[1m2s\u001b[0m 40ms/step\n",
      "\n",
      "💾 Fine-tuned LSTM model saved to ..\\model\\finetuned_lstm\\SPY_lstm_model_tuned.keras\n",
      "\n",
      "SPY evaluation metrics:\n",
      " {'RMSE': 0.07964525635880011, 'MAE': 0.0538130883894066, 'R²': 0.16291671266662577}\n",
      "\n",
      "💾 Plot saved to ..\\insights\\finetuned_model\\SPY_asset_price_prediction_finetuned_lstm.png\n"
     ]
    },
    {
     "data": {
      "image/png": "[encoded data removed]",
      "text/plain": [
       "<Figure size 1200x400 with 1 Axes>"
      ]
     },
     "metadata": {},
     "output_type": "display_data"
    }
   ],
   "source": [
    "# S&P 500 ETF (SPY)\n",
    "tuner = FineTuningLSTM(\n",
    "    asset_name=\"SPY\",\n",
    "    processed_dir=processed_dir,\n",
    "    processed_path=os.path.join(\n",
    "        ntbk_dir, \"..\", \"data/processed/SPY_stock_price_enriched.csv\"\n",
    "    ),\n",
    "    plot_dir=plot_dir,\n",
    "    model_dir=model_dir,\n",
    "    look_back=90,  # Balance trend detection with noise reduction\n",
    "    project_name=\"SPY_temp_lstm_tuning\",\n",
    ")\n",
    "tuner.finetune_model()"
   ]
  }
 ],
 "metadata": {
  "kernelspec": {
   "display_name": ".tslvenv",
   "language": "python",
   "name": "python3"
  },
  "language_info": {
   "codemirror_mode": {
    "name": "ipython",
    "version": 3
   },
   "file_extension": ".py",
   "mimetype": "text/x-python",
   "name": "python",
   "nbconvert_exporter": "python",
   "pygments_lexer": "ipython3",
   "version": "3.11.9"
  }
 },
 "nbformat": 4,
 "nbformat_minor": 5
}
